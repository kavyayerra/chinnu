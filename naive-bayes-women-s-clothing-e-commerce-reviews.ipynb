{
 "cells": [
  {
   "cell_type": "code",
   "execution_count": 1,
   "metadata": {
    "execution": {
     "iopub.execute_input": "2021-01-10T14:33:25.495616Z",
     "iopub.status.busy": "2021-01-10T14:33:25.494477Z",
     "iopub.status.idle": "2021-01-10T14:33:26.654944Z",
     "shell.execute_reply": "2021-01-10T14:33:26.655534Z"
    },
    "papermill": {
     "duration": 1.221744,
     "end_time": "2021-01-10T14:33:26.655742",
     "exception": false,
     "start_time": "2021-01-10T14:33:25.433998",
     "status": "completed"
    },
    "tags": []
   },
   "outputs": [],
   "source": [
    "#importing necessary libraries\n",
    "%matplotlib inline\n",
    "import warnings\n",
    "warnings.filterwarnings(\"ignore\")\n",
    "\n",
    "import pandas as pd\n",
    "import numpy as np\n",
    "\n",
    "import matplotlib.pyplot as plt\n",
    "import seaborn as sns\n",
    "\n",
    "from sklearn.feature_extraction.text import CountVectorizer\n",
    "from sklearn.metrics import confusion_matrix\n",
    "from sklearn import metrics\n",
    "from sklearn.metrics import roc_curve, auc\n",
    "\n",
    "import re\n",
    "\n",
    "import pickle\n",
    "from tqdm import tqdm\n",
    "import os\n",
    "\n"
   ]
  },
  {
   "cell_type": "code",
   "execution_count": 2,
   "metadata": {
    "execution": {
     "iopub.execute_input": "2021-01-10T14:33:26.754992Z",
     "iopub.status.busy": "2021-01-10T14:33:26.753922Z",
     "iopub.status.idle": "2021-01-10T14:33:27.024911Z",
     "shell.execute_reply": "2021-01-10T14:33:27.024169Z"
    },
    "papermill": {
     "duration": 0.321512,
     "end_time": "2021-01-10T14:33:27.025029",
     "exception": false,
     "start_time": "2021-01-10T14:33:26.703517",
     "status": "completed"
    },
    "tags": []
   },
   "outputs": [],
   "source": [
    "#loading dataset\n",
    "data=pd.read_csv(\"../input/womens-ecommerce-clothing-reviews/Womens Clothing E-Commerce Reviews.csv\")\n"
   ]
  },
  {
   "cell_type": "code",
   "execution_count": 3,
   "metadata": {
    "execution": {
     "iopub.execute_input": "2021-01-10T14:33:27.128959Z",
     "iopub.status.busy": "2021-01-10T14:33:27.127905Z",
     "iopub.status.idle": "2021-01-10T14:33:27.135844Z",
     "shell.execute_reply": "2021-01-10T14:33:27.135233Z"
    },
    "papermill": {
     "duration": 0.062505,
     "end_time": "2021-01-10T14:33:27.135956",
     "exception": false,
     "start_time": "2021-01-10T14:33:27.073451",
     "status": "completed"
    },
    "tags": []
   },
   "outputs": [
    {
     "data": {
      "text/plain": [
       "(23486, 11)"
      ]
     },
     "execution_count": 3,
     "metadata": {},
     "output_type": "execute_result"
    }
   ],
   "source": [
    "#what is the shape of the dta set?\n",
    "data.shape"
   ]
  },
  {
   "cell_type": "code",
   "execution_count": 4,
   "metadata": {
    "execution": {
     "iopub.execute_input": "2021-01-10T14:33:27.235855Z",
     "iopub.status.busy": "2021-01-10T14:33:27.235029Z",
     "iopub.status.idle": "2021-01-10T14:33:27.240575Z",
     "shell.execute_reply": "2021-01-10T14:33:27.241268Z"
    },
    "papermill": {
     "duration": 0.057036,
     "end_time": "2021-01-10T14:33:27.241414",
     "exception": false,
     "start_time": "2021-01-10T14:33:27.184378",
     "status": "completed"
    },
    "tags": []
   },
   "outputs": [
    {
     "data": {
      "text/plain": [
       "Index(['Unnamed: 0', 'Clothing ID', 'Age', 'Title', 'Review Text', 'Rating',\n",
       "       'Recommended IND', 'Positive Feedback Count', 'Division Name',\n",
       "       'Department Name', 'Class Name'],\n",
       "      dtype='object')"
      ]
     },
     "execution_count": 4,
     "metadata": {},
     "output_type": "execute_result"
    }
   ],
   "source": [
    "\n",
    "#which columns are there?\n",
    "data.columns"
   ]
  },
  {
   "cell_type": "code",
   "execution_count": 5,
   "metadata": {
    "execution": {
     "iopub.execute_input": "2021-01-10T14:33:27.345076Z",
     "iopub.status.busy": "2021-01-10T14:33:27.344347Z",
     "iopub.status.idle": "2021-01-10T14:33:27.371072Z",
     "shell.execute_reply": "2021-01-10T14:33:27.370500Z"
    },
    "papermill": {
     "duration": 0.079771,
     "end_time": "2021-01-10T14:33:27.371184",
     "exception": false,
     "start_time": "2021-01-10T14:33:27.291413",
     "status": "completed"
    },
    "tags": []
   },
   "outputs": [
    {
     "data": {
      "text/html": [
       "<div>\n",
       "<style scoped>\n",
       "    .dataframe tbody tr th:only-of-type {\n",
       "        vertical-align: middle;\n",
       "    }\n",
       "\n",
       "    .dataframe tbody tr th {\n",
       "        vertical-align: top;\n",
       "    }\n",
       "\n",
       "    .dataframe thead th {\n",
       "        text-align: right;\n",
       "    }\n",
       "</style>\n",
       "<table border=\"1\" class=\"dataframe\">\n",
       "  <thead>\n",
       "    <tr style=\"text-align: right;\">\n",
       "      <th></th>\n",
       "      <th>Unnamed: 0</th>\n",
       "      <th>Clothing ID</th>\n",
       "      <th>Age</th>\n",
       "      <th>Title</th>\n",
       "      <th>Review Text</th>\n",
       "      <th>Rating</th>\n",
       "      <th>Recommended IND</th>\n",
       "      <th>Positive Feedback Count</th>\n",
       "      <th>Division Name</th>\n",
       "      <th>Department Name</th>\n",
       "      <th>Class Name</th>\n",
       "    </tr>\n",
       "  </thead>\n",
       "  <tbody>\n",
       "    <tr>\n",
       "      <th>0</th>\n",
       "      <td>0</td>\n",
       "      <td>767</td>\n",
       "      <td>33</td>\n",
       "      <td>NaN</td>\n",
       "      <td>Absolutely wonderful - silky and sexy and comf...</td>\n",
       "      <td>4</td>\n",
       "      <td>1</td>\n",
       "      <td>0</td>\n",
       "      <td>Initmates</td>\n",
       "      <td>Intimate</td>\n",
       "      <td>Intimates</td>\n",
       "    </tr>\n",
       "    <tr>\n",
       "      <th>1</th>\n",
       "      <td>1</td>\n",
       "      <td>1080</td>\n",
       "      <td>34</td>\n",
       "      <td>NaN</td>\n",
       "      <td>Love this dress!  it's sooo pretty.  i happene...</td>\n",
       "      <td>5</td>\n",
       "      <td>1</td>\n",
       "      <td>4</td>\n",
       "      <td>General</td>\n",
       "      <td>Dresses</td>\n",
       "      <td>Dresses</td>\n",
       "    </tr>\n",
       "    <tr>\n",
       "      <th>2</th>\n",
       "      <td>2</td>\n",
       "      <td>1077</td>\n",
       "      <td>60</td>\n",
       "      <td>Some major design flaws</td>\n",
       "      <td>I had such high hopes for this dress and reall...</td>\n",
       "      <td>3</td>\n",
       "      <td>0</td>\n",
       "      <td>0</td>\n",
       "      <td>General</td>\n",
       "      <td>Dresses</td>\n",
       "      <td>Dresses</td>\n",
       "    </tr>\n",
       "    <tr>\n",
       "      <th>3</th>\n",
       "      <td>3</td>\n",
       "      <td>1049</td>\n",
       "      <td>50</td>\n",
       "      <td>My favorite buy!</td>\n",
       "      <td>I love, love, love this jumpsuit. it's fun, fl...</td>\n",
       "      <td>5</td>\n",
       "      <td>1</td>\n",
       "      <td>0</td>\n",
       "      <td>General Petite</td>\n",
       "      <td>Bottoms</td>\n",
       "      <td>Pants</td>\n",
       "    </tr>\n",
       "    <tr>\n",
       "      <th>4</th>\n",
       "      <td>4</td>\n",
       "      <td>847</td>\n",
       "      <td>47</td>\n",
       "      <td>Flattering shirt</td>\n",
       "      <td>This shirt is very flattering to all due to th...</td>\n",
       "      <td>5</td>\n",
       "      <td>1</td>\n",
       "      <td>6</td>\n",
       "      <td>General</td>\n",
       "      <td>Tops</td>\n",
       "      <td>Blouses</td>\n",
       "    </tr>\n",
       "  </tbody>\n",
       "</table>\n",
       "</div>"
      ],
      "text/plain": [
       "   Unnamed: 0  Clothing ID  Age                    Title  \\\n",
       "0           0          767   33                      NaN   \n",
       "1           1         1080   34                      NaN   \n",
       "2           2         1077   60  Some major design flaws   \n",
       "3           3         1049   50         My favorite buy!   \n",
       "4           4          847   47         Flattering shirt   \n",
       "\n",
       "                                         Review Text  Rating  Recommended IND  \\\n",
       "0  Absolutely wonderful - silky and sexy and comf...       4                1   \n",
       "1  Love this dress!  it's sooo pretty.  i happene...       5                1   \n",
       "2  I had such high hopes for this dress and reall...       3                0   \n",
       "3  I love, love, love this jumpsuit. it's fun, fl...       5                1   \n",
       "4  This shirt is very flattering to all due to th...       5                1   \n",
       "\n",
       "   Positive Feedback Count   Division Name Department Name Class Name  \n",
       "0                        0       Initmates        Intimate  Intimates  \n",
       "1                        4         General         Dresses    Dresses  \n",
       "2                        0         General         Dresses    Dresses  \n",
       "3                        0  General Petite         Bottoms      Pants  \n",
       "4                        6         General            Tops    Blouses  "
      ]
     },
     "execution_count": 5,
     "metadata": {},
     "output_type": "execute_result"
    }
   ],
   "source": [
    "#lets see the first 5 rows of each column.\n",
    "\n",
    "data.head(5)"
   ]
  },
  {
   "cell_type": "markdown",
   "metadata": {
    "papermill": {
     "duration": 0.050347,
     "end_time": "2021-01-10T14:33:27.472587",
     "exception": false,
     "start_time": "2021-01-10T14:33:27.422240",
     "status": "completed"
    },
    "tags": []
   },
   "source": [
    "!].We found some NaN values. So we will drop that in the next step."
   ]
  },
  {
   "cell_type": "code",
   "execution_count": 6,
   "metadata": {
    "execution": {
     "iopub.execute_input": "2021-01-10T14:33:27.574960Z",
     "iopub.status.busy": "2021-01-10T14:33:27.573963Z",
     "iopub.status.idle": "2021-01-10T14:33:27.628550Z",
     "shell.execute_reply": "2021-01-10T14:33:27.627966Z"
    },
    "papermill": {
     "duration": 0.106942,
     "end_time": "2021-01-10T14:33:27.628685",
     "exception": false,
     "start_time": "2021-01-10T14:33:27.521743",
     "status": "completed"
    },
    "tags": []
   },
   "outputs": [
    {
     "data": {
      "text/html": [
       "<div>\n",
       "<style scoped>\n",
       "    .dataframe tbody tr th:only-of-type {\n",
       "        vertical-align: middle;\n",
       "    }\n",
       "\n",
       "    .dataframe tbody tr th {\n",
       "        vertical-align: top;\n",
       "    }\n",
       "\n",
       "    .dataframe thead th {\n",
       "        text-align: right;\n",
       "    }\n",
       "</style>\n",
       "<table border=\"1\" class=\"dataframe\">\n",
       "  <thead>\n",
       "    <tr style=\"text-align: right;\">\n",
       "      <th></th>\n",
       "      <th>Unnamed: 0</th>\n",
       "      <th>Clothing ID</th>\n",
       "      <th>Age</th>\n",
       "      <th>Title</th>\n",
       "      <th>Review Text</th>\n",
       "      <th>Rating</th>\n",
       "      <th>Recommended IND</th>\n",
       "      <th>Positive Feedback Count</th>\n",
       "      <th>Division Name</th>\n",
       "      <th>Department Name</th>\n",
       "      <th>Class Name</th>\n",
       "    </tr>\n",
       "  </thead>\n",
       "  <tbody>\n",
       "    <tr>\n",
       "      <th>2</th>\n",
       "      <td>2</td>\n",
       "      <td>1077</td>\n",
       "      <td>60</td>\n",
       "      <td>Some major design flaws</td>\n",
       "      <td>I had such high hopes for this dress and reall...</td>\n",
       "      <td>3</td>\n",
       "      <td>0</td>\n",
       "      <td>0</td>\n",
       "      <td>General</td>\n",
       "      <td>Dresses</td>\n",
       "      <td>Dresses</td>\n",
       "    </tr>\n",
       "    <tr>\n",
       "      <th>3</th>\n",
       "      <td>3</td>\n",
       "      <td>1049</td>\n",
       "      <td>50</td>\n",
       "      <td>My favorite buy!</td>\n",
       "      <td>I love, love, love this jumpsuit. it's fun, fl...</td>\n",
       "      <td>5</td>\n",
       "      <td>1</td>\n",
       "      <td>0</td>\n",
       "      <td>General Petite</td>\n",
       "      <td>Bottoms</td>\n",
       "      <td>Pants</td>\n",
       "    </tr>\n",
       "  </tbody>\n",
       "</table>\n",
       "</div>"
      ],
      "text/plain": [
       "   Unnamed: 0  Clothing ID  Age                    Title  \\\n",
       "2           2         1077   60  Some major design flaws   \n",
       "3           3         1049   50         My favorite buy!   \n",
       "\n",
       "                                         Review Text  Rating  Recommended IND  \\\n",
       "2  I had such high hopes for this dress and reall...       3                0   \n",
       "3  I love, love, love this jumpsuit. it's fun, fl...       5                1   \n",
       "\n",
       "   Positive Feedback Count   Division Name Department Name Class Name  \n",
       "2                        0         General         Dresses    Dresses  \n",
       "3                        0  General Petite         Bottoms      Pants  "
      ]
     },
     "execution_count": 6,
     "metadata": {},
     "output_type": "execute_result"
    }
   ],
   "source": [
    "#dropping nan values\n",
    "data=data.dropna()\n",
    "data.head(2)"
   ]
  },
  {
   "cell_type": "markdown",
   "metadata": {
    "papermill": {
     "duration": 0.050461,
     "end_time": "2021-01-10T14:33:27.729358",
     "exception": false,
     "start_time": "2021-01-10T14:33:27.678897",
     "status": "completed"
    },
    "tags": []
   },
   "source": [
    "We have unnamed: 0 column which is unnecessary."
   ]
  },
  {
   "cell_type": "code",
   "execution_count": 7,
   "metadata": {
    "execution": {
     "iopub.execute_input": "2021-01-10T14:33:27.840370Z",
     "iopub.status.busy": "2021-01-10T14:33:27.836327Z",
     "iopub.status.idle": "2021-01-10T14:33:27.856271Z",
     "shell.execute_reply": "2021-01-10T14:33:27.856747Z"
    },
    "papermill": {
     "duration": 0.077662,
     "end_time": "2021-01-10T14:33:27.856897",
     "exception": false,
     "start_time": "2021-01-10T14:33:27.779235",
     "status": "completed"
    },
    "tags": []
   },
   "outputs": [
    {
     "data": {
      "text/html": [
       "<div>\n",
       "<style scoped>\n",
       "    .dataframe tbody tr th:only-of-type {\n",
       "        vertical-align: middle;\n",
       "    }\n",
       "\n",
       "    .dataframe tbody tr th {\n",
       "        vertical-align: top;\n",
       "    }\n",
       "\n",
       "    .dataframe thead th {\n",
       "        text-align: right;\n",
       "    }\n",
       "</style>\n",
       "<table border=\"1\" class=\"dataframe\">\n",
       "  <thead>\n",
       "    <tr style=\"text-align: right;\">\n",
       "      <th></th>\n",
       "      <th>index</th>\n",
       "      <th>Clothing ID</th>\n",
       "      <th>Age</th>\n",
       "      <th>Title</th>\n",
       "      <th>Review Text</th>\n",
       "      <th>Rating</th>\n",
       "      <th>Recommended IND</th>\n",
       "      <th>Positive Feedback Count</th>\n",
       "      <th>Division Name</th>\n",
       "      <th>Department Name</th>\n",
       "      <th>Class Name</th>\n",
       "    </tr>\n",
       "  </thead>\n",
       "  <tbody>\n",
       "    <tr>\n",
       "      <th>0</th>\n",
       "      <td>2</td>\n",
       "      <td>1077</td>\n",
       "      <td>60</td>\n",
       "      <td>Some major design flaws</td>\n",
       "      <td>I had such high hopes for this dress and reall...</td>\n",
       "      <td>3</td>\n",
       "      <td>0</td>\n",
       "      <td>0</td>\n",
       "      <td>General</td>\n",
       "      <td>Dresses</td>\n",
       "      <td>Dresses</td>\n",
       "    </tr>\n",
       "    <tr>\n",
       "      <th>1</th>\n",
       "      <td>3</td>\n",
       "      <td>1049</td>\n",
       "      <td>50</td>\n",
       "      <td>My favorite buy!</td>\n",
       "      <td>I love, love, love this jumpsuit. it's fun, fl...</td>\n",
       "      <td>5</td>\n",
       "      <td>1</td>\n",
       "      <td>0</td>\n",
       "      <td>General Petite</td>\n",
       "      <td>Bottoms</td>\n",
       "      <td>Pants</td>\n",
       "    </tr>\n",
       "  </tbody>\n",
       "</table>\n",
       "</div>"
      ],
      "text/plain": [
       "   index  Clothing ID  Age                    Title  \\\n",
       "0      2         1077   60  Some major design flaws   \n",
       "1      3         1049   50         My favorite buy!   \n",
       "\n",
       "                                         Review Text  Rating  Recommended IND  \\\n",
       "0  I had such high hopes for this dress and reall...       3                0   \n",
       "1  I love, love, love this jumpsuit. it's fun, fl...       5                1   \n",
       "\n",
       "   Positive Feedback Count   Division Name Department Name Class Name  \n",
       "0                        0         General         Dresses    Dresses  \n",
       "1                        0  General Petite         Bottoms      Pants  "
      ]
     },
     "execution_count": 7,
     "metadata": {},
     "output_type": "execute_result"
    }
   ],
   "source": [
    "#dropping unnamed column\n",
    "data=data.drop([\"Unnamed: 0\"],axis=1).reset_index()\n",
    "data.head(2)"
   ]
  },
  {
   "cell_type": "code",
   "execution_count": 8,
   "metadata": {
    "execution": {
     "iopub.execute_input": "2021-01-10T14:33:27.965290Z",
     "iopub.status.busy": "2021-01-10T14:33:27.964270Z",
     "iopub.status.idle": "2021-01-10T14:33:27.968402Z",
     "shell.execute_reply": "2021-01-10T14:33:27.969080Z"
    },
    "papermill": {
     "duration": 0.058733,
     "end_time": "2021-01-10T14:33:27.969275",
     "exception": false,
     "start_time": "2021-01-10T14:33:27.910542",
     "status": "completed"
    },
    "tags": []
   },
   "outputs": [],
   "source": [
    "#Do you want to see more information about data set?..............."
   ]
  },
  {
   "cell_type": "code",
   "execution_count": 9,
   "metadata": {
    "execution": {
     "iopub.execute_input": "2021-01-10T14:33:28.075135Z",
     "iopub.status.busy": "2021-01-10T14:33:28.074131Z",
     "iopub.status.idle": "2021-01-10T14:33:28.101629Z",
     "shell.execute_reply": "2021-01-10T14:33:28.102239Z"
    },
    "papermill": {
     "duration": 0.081568,
     "end_time": "2021-01-10T14:33:28.102378",
     "exception": false,
     "start_time": "2021-01-10T14:33:28.020810",
     "status": "completed"
    },
    "tags": []
   },
   "outputs": [
    {
     "name": "stdout",
     "output_type": "stream",
     "text": [
      "<class 'pandas.core.frame.DataFrame'>\n",
      "RangeIndex: 19662 entries, 0 to 19661\n",
      "Data columns (total 11 columns):\n",
      " #   Column                   Non-Null Count  Dtype \n",
      "---  ------                   --------------  ----- \n",
      " 0   index                    19662 non-null  int64 \n",
      " 1   Clothing ID              19662 non-null  int64 \n",
      " 2   Age                      19662 non-null  int64 \n",
      " 3   Title                    19662 non-null  object\n",
      " 4   Review Text              19662 non-null  object\n",
      " 5   Rating                   19662 non-null  int64 \n",
      " 6   Recommended IND          19662 non-null  int64 \n",
      " 7   Positive Feedback Count  19662 non-null  int64 \n",
      " 8   Division Name            19662 non-null  object\n",
      " 9   Department Name          19662 non-null  object\n",
      " 10  Class Name               19662 non-null  object\n",
      "dtypes: int64(6), object(5)\n",
      "memory usage: 1.7+ MB\n"
     ]
    }
   ],
   "source": [
    "#here it is........\n",
    "data.info()"
   ]
  },
  {
   "cell_type": "markdown",
   "metadata": {
    "papermill": {
     "duration": 0.050948,
     "end_time": "2021-01-10T14:33:28.204065",
     "exception": false,
     "start_time": "2021-01-10T14:33:28.153117",
     "status": "completed"
    },
    "tags": []
   },
   "source": [
    "We don't have any null values... great!!!!"
   ]
  },
  {
   "cell_type": "code",
   "execution_count": 10,
   "metadata": {
    "execution": {
     "iopub.execute_input": "2021-01-10T14:33:28.312913Z",
     "iopub.status.busy": "2021-01-10T14:33:28.311968Z",
     "iopub.status.idle": "2021-01-10T14:33:28.314252Z",
     "shell.execute_reply": "2021-01-10T14:33:28.314765Z"
    },
    "papermill": {
     "duration": 0.058844,
     "end_time": "2021-01-10T14:33:28.314903",
     "exception": false,
     "start_time": "2021-01-10T14:33:28.256059",
     "status": "completed"
    },
    "tags": []
   },
   "outputs": [],
   "source": [
    "#Lets describe some statistical data......."
   ]
  },
  {
   "cell_type": "code",
   "execution_count": 11,
   "metadata": {
    "execution": {
     "iopub.execute_input": "2021-01-10T14:33:28.421192Z",
     "iopub.status.busy": "2021-01-10T14:33:28.420440Z",
     "iopub.status.idle": "2021-01-10T14:33:28.453545Z",
     "shell.execute_reply": "2021-01-10T14:33:28.454040Z"
    },
    "papermill": {
     "duration": 0.087464,
     "end_time": "2021-01-10T14:33:28.454186",
     "exception": false,
     "start_time": "2021-01-10T14:33:28.366722",
     "status": "completed"
    },
    "tags": []
   },
   "outputs": [
    {
     "data": {
      "text/html": [
       "<div>\n",
       "<style scoped>\n",
       "    .dataframe tbody tr th:only-of-type {\n",
       "        vertical-align: middle;\n",
       "    }\n",
       "\n",
       "    .dataframe tbody tr th {\n",
       "        vertical-align: top;\n",
       "    }\n",
       "\n",
       "    .dataframe thead th {\n",
       "        text-align: right;\n",
       "    }\n",
       "</style>\n",
       "<table border=\"1\" class=\"dataframe\">\n",
       "  <thead>\n",
       "    <tr style=\"text-align: right;\">\n",
       "      <th></th>\n",
       "      <th>index</th>\n",
       "      <th>Clothing ID</th>\n",
       "      <th>Age</th>\n",
       "      <th>Rating</th>\n",
       "      <th>Recommended IND</th>\n",
       "      <th>Positive Feedback Count</th>\n",
       "    </tr>\n",
       "  </thead>\n",
       "  <tbody>\n",
       "    <tr>\n",
       "      <th>count</th>\n",
       "      <td>19662.000000</td>\n",
       "      <td>19662.000000</td>\n",
       "      <td>19662.000000</td>\n",
       "      <td>19662.000000</td>\n",
       "      <td>19662.000000</td>\n",
       "      <td>19662.000000</td>\n",
       "    </tr>\n",
       "    <tr>\n",
       "      <th>mean</th>\n",
       "      <td>11755.260655</td>\n",
       "      <td>921.297274</td>\n",
       "      <td>43.260808</td>\n",
       "      <td>4.183145</td>\n",
       "      <td>0.818177</td>\n",
       "      <td>2.652477</td>\n",
       "    </tr>\n",
       "    <tr>\n",
       "      <th>std</th>\n",
       "      <td>6772.063092</td>\n",
       "      <td>200.227528</td>\n",
       "      <td>12.258122</td>\n",
       "      <td>1.112224</td>\n",
       "      <td>0.385708</td>\n",
       "      <td>5.834285</td>\n",
       "    </tr>\n",
       "    <tr>\n",
       "      <th>min</th>\n",
       "      <td>2.000000</td>\n",
       "      <td>1.000000</td>\n",
       "      <td>18.000000</td>\n",
       "      <td>1.000000</td>\n",
       "      <td>0.000000</td>\n",
       "      <td>0.000000</td>\n",
       "    </tr>\n",
       "    <tr>\n",
       "      <th>25%</th>\n",
       "      <td>5888.250000</td>\n",
       "      <td>861.000000</td>\n",
       "      <td>34.000000</td>\n",
       "      <td>4.000000</td>\n",
       "      <td>1.000000</td>\n",
       "      <td>0.000000</td>\n",
       "    </tr>\n",
       "    <tr>\n",
       "      <th>50%</th>\n",
       "      <td>11749.500000</td>\n",
       "      <td>936.000000</td>\n",
       "      <td>41.000000</td>\n",
       "      <td>5.000000</td>\n",
       "      <td>1.000000</td>\n",
       "      <td>1.000000</td>\n",
       "    </tr>\n",
       "    <tr>\n",
       "      <th>75%</th>\n",
       "      <td>17624.750000</td>\n",
       "      <td>1078.000000</td>\n",
       "      <td>52.000000</td>\n",
       "      <td>5.000000</td>\n",
       "      <td>1.000000</td>\n",
       "      <td>3.000000</td>\n",
       "    </tr>\n",
       "    <tr>\n",
       "      <th>max</th>\n",
       "      <td>23485.000000</td>\n",
       "      <td>1205.000000</td>\n",
       "      <td>99.000000</td>\n",
       "      <td>5.000000</td>\n",
       "      <td>1.000000</td>\n",
       "      <td>122.000000</td>\n",
       "    </tr>\n",
       "  </tbody>\n",
       "</table>\n",
       "</div>"
      ],
      "text/plain": [
       "              index   Clothing ID           Age        Rating  \\\n",
       "count  19662.000000  19662.000000  19662.000000  19662.000000   \n",
       "mean   11755.260655    921.297274     43.260808      4.183145   \n",
       "std     6772.063092    200.227528     12.258122      1.112224   \n",
       "min        2.000000      1.000000     18.000000      1.000000   \n",
       "25%     5888.250000    861.000000     34.000000      4.000000   \n",
       "50%    11749.500000    936.000000     41.000000      5.000000   \n",
       "75%    17624.750000   1078.000000     52.000000      5.000000   \n",
       "max    23485.000000   1205.000000     99.000000      5.000000   \n",
       "\n",
       "       Recommended IND  Positive Feedback Count  \n",
       "count     19662.000000             19662.000000  \n",
       "mean          0.818177                 2.652477  \n",
       "std           0.385708                 5.834285  \n",
       "min           0.000000                 0.000000  \n",
       "25%           1.000000                 0.000000  \n",
       "50%           1.000000                 1.000000  \n",
       "75%           1.000000                 3.000000  \n",
       "max           1.000000               122.000000  "
      ]
     },
     "execution_count": 11,
     "metadata": {},
     "output_type": "execute_result"
    }
   ],
   "source": [
    "data.describe()"
   ]
  },
  {
   "cell_type": "code",
   "execution_count": 12,
   "metadata": {
    "execution": {
     "iopub.execute_input": "2021-01-10T14:33:28.562725Z",
     "iopub.status.busy": "2021-01-10T14:33:28.562040Z",
     "iopub.status.idle": "2021-01-10T14:33:28.569782Z",
     "shell.execute_reply": "2021-01-10T14:33:28.570306Z"
    },
    "papermill": {
     "duration": 0.063127,
     "end_time": "2021-01-10T14:33:28.570448",
     "exception": false,
     "start_time": "2021-01-10T14:33:28.507321",
     "status": "completed"
    },
    "tags": []
   },
   "outputs": [
    {
     "data": {
      "text/plain": [
       "1078    871\n",
       "862     658\n",
       "1094    651\n",
       "1081    487\n",
       "829     452\n",
       "       ... \n",
       "776       1\n",
       "744       1\n",
       "728       1\n",
       "712       1\n",
       "16        1\n",
       "Name: Clothing ID, Length: 1095, dtype: int64"
      ]
     },
     "execution_count": 12,
     "metadata": {},
     "output_type": "execute_result"
    }
   ],
   "source": [
    "#lets check how many different values are there for clothing id\n",
    "data[\"Clothing ID\"].value_counts()"
   ]
  },
  {
   "cell_type": "code",
   "execution_count": 13,
   "metadata": {
    "execution": {
     "iopub.execute_input": "2021-01-10T14:33:28.678836Z",
     "iopub.status.busy": "2021-01-10T14:33:28.678164Z",
     "iopub.status.idle": "2021-01-10T14:33:28.689726Z",
     "shell.execute_reply": "2021-01-10T14:33:28.690233Z"
    },
    "papermill": {
     "duration": 0.067629,
     "end_time": "2021-01-10T14:33:28.690394",
     "exception": false,
     "start_time": "2021-01-10T14:33:28.622765",
     "status": "completed"
    },
    "tags": []
   },
   "outputs": [
    {
     "data": {
      "text/plain": [
       "General           11664\n",
       "General Petite     6778\n",
       "Initmates          1220\n",
       "Name: Division Name, dtype: int64"
      ]
     },
     "execution_count": 13,
     "metadata": {},
     "output_type": "execute_result"
    }
   ],
   "source": [
    "#lets get the value counts of division name\n",
    "data[\"Division Name\"].value_counts()"
   ]
  },
  {
   "cell_type": "markdown",
   "metadata": {
    "papermill": {
     "duration": 0.052351,
     "end_time": "2021-01-10T14:33:28.795528",
     "exception": false,
     "start_time": "2021-01-10T14:33:28.743177",
     "status": "completed"
    },
    "tags": []
   },
   "source": [
    "We have only 3 Divisions.. "
   ]
  },
  {
   "cell_type": "code",
   "execution_count": 14,
   "metadata": {
    "execution": {
     "iopub.execute_input": "2021-01-10T14:33:28.907155Z",
     "iopub.status.busy": "2021-01-10T14:33:28.906083Z",
     "iopub.status.idle": "2021-01-10T14:33:28.923561Z",
     "shell.execute_reply": "2021-01-10T14:33:28.924170Z"
    },
    "papermill": {
     "duration": 0.07463,
     "end_time": "2021-01-10T14:33:28.924331",
     "exception": false,
     "start_time": "2021-01-10T14:33:28.849701",
     "status": "completed"
    },
    "tags": []
   },
   "outputs": [
    {
     "data": {
      "text/plain": [
       "Tops        8713\n",
       "Dresses     5371\n",
       "Bottoms     3184\n",
       "Intimate    1408\n",
       "Jackets      879\n",
       "Trend        107\n",
       "Name: Department Name, dtype: int64"
      ]
     },
     "execution_count": 14,
     "metadata": {},
     "output_type": "execute_result"
    }
   ],
   "source": [
    "#lets check the value counts of department name\n",
    "data[\"Department Name\"].value_counts()"
   ]
  },
  {
   "cell_type": "code",
   "execution_count": 15,
   "metadata": {
    "execution": {
     "iopub.execute_input": "2021-01-10T14:33:29.076497Z",
     "iopub.status.busy": "2021-01-10T14:33:29.075521Z",
     "iopub.status.idle": "2021-01-10T14:33:29.079287Z",
     "shell.execute_reply": "2021-01-10T14:33:29.079831Z"
    },
    "papermill": {
     "duration": 0.07926,
     "end_time": "2021-01-10T14:33:29.079984",
     "exception": false,
     "start_time": "2021-01-10T14:33:29.000724",
     "status": "completed"
    },
    "tags": []
   },
   "outputs": [
    {
     "data": {
      "text/plain": [
       "Dresses           5371\n",
       "Knits             3981\n",
       "Blouses           2587\n",
       "Sweaters          1218\n",
       "Pants             1157\n",
       "Jeans              970\n",
       "Fine gauge         927\n",
       "Skirts             796\n",
       "Jackets            598\n",
       "Lounge             574\n",
       "Swim               293\n",
       "Outerwear          281\n",
       "Shorts             260\n",
       "Sleep              174\n",
       "Legwear            131\n",
       "Intimates          120\n",
       "Layering           115\n",
       "Trend              107\n",
       "Casual bottoms       1\n",
       "Chemises             1\n",
       "Name: Class Name, dtype: int64"
      ]
     },
     "execution_count": 15,
     "metadata": {},
     "output_type": "execute_result"
    }
   ],
   "source": [
    "#lets check the value counts of class name\n",
    "data[\"Class Name\"].value_counts()"
   ]
  },
  {
   "cell_type": "markdown",
   "metadata": {
    "papermill": {
     "duration": 0.053891,
     "end_time": "2021-01-10T14:33:29.192911",
     "exception": false,
     "start_time": "2021-01-10T14:33:29.139020",
     "status": "completed"
    },
    "tags": []
   },
   "source": [
    "***Okayy.. Now lets check our class label i.e. Recommended IND, also % of recommendations........***"
   ]
  },
  {
   "cell_type": "code",
   "execution_count": 16,
   "metadata": {
    "execution": {
     "iopub.execute_input": "2021-01-10T14:33:29.305201Z",
     "iopub.status.busy": "2021-01-10T14:33:29.304201Z",
     "iopub.status.idle": "2021-01-10T14:33:29.316225Z",
     "shell.execute_reply": "2021-01-10T14:33:29.315403Z"
    },
    "papermill": {
     "duration": 0.069121,
     "end_time": "2021-01-10T14:33:29.316405",
     "exception": false,
     "start_time": "2021-01-10T14:33:29.247284",
     "status": "completed"
    },
    "tags": []
   },
   "outputs": [
    {
     "name": "stdout",
     "output_type": "stream",
     "text": [
      "1    16087\n",
      "0     3575\n",
      "Name: Recommended IND, dtype: int64\n",
      "The products that are recommended are :  81.81771945885464 %\n",
      "the productys that are not recommended are : 18.182280541145357 %\n"
     ]
    }
   ],
   "source": [
    "a=data[\"Recommended IND\"].value_counts()\n",
    "print(a)\n",
    "print(\"The products that are recommended are : \", (a[1]/(a[0]+a[1]))*100,\"%\")\n",
    "print(\"the productys that are not recommended are :\", (a[0]/(a[0]+a[1]))*100,\"%\")"
   ]
  },
  {
   "cell_type": "markdown",
   "metadata": {
    "papermill": {
     "duration": 0.054929,
     "end_time": "2021-01-10T14:33:29.426718",
     "exception": false,
     "start_time": "2021-01-10T14:33:29.371789",
     "status": "completed"
    },
    "tags": []
   },
   "source": [
    "***The dataset is imbalanced. 1 means recommended. 0 means not recommended.***<br>\n",
    "1]. We have ***81.8%*** of ***recommended*** data points.... and only ***18.18%*** of ***not recommended*** data points...\n",
    "    "
   ]
  },
  {
   "cell_type": "markdown",
   "metadata": {
    "papermill": {
     "duration": 0.054736,
     "end_time": "2021-01-10T14:33:29.536772",
     "exception": false,
     "start_time": "2021-01-10T14:33:29.482036",
     "status": "completed"
    },
    "tags": []
   },
   "source": [
    "# Let,s analyse.. (UNIVARIATE ANALYSIS)"
   ]
  },
  {
   "cell_type": "code",
   "execution_count": 17,
   "metadata": {
    "execution": {
     "iopub.execute_input": "2021-01-10T14:33:29.651468Z",
     "iopub.status.busy": "2021-01-10T14:33:29.650630Z",
     "iopub.status.idle": "2021-01-10T14:33:29.654141Z",
     "shell.execute_reply": "2021-01-10T14:33:29.653385Z"
    },
    "papermill": {
     "duration": 0.062393,
     "end_time": "2021-01-10T14:33:29.654260",
     "exception": false,
     "start_time": "2021-01-10T14:33:29.591867",
     "status": "completed"
    },
    "tags": []
   },
   "outputs": [],
   "source": [
    "#lets define function for stack plot.........."
   ]
  },
  {
   "cell_type": "code",
   "execution_count": 18,
   "metadata": {
    "execution": {
     "iopub.execute_input": "2021-01-10T14:33:29.772744Z",
     "iopub.status.busy": "2021-01-10T14:33:29.772070Z",
     "iopub.status.idle": "2021-01-10T14:33:29.775419Z",
     "shell.execute_reply": "2021-01-10T14:33:29.774879Z"
    },
    "papermill": {
     "duration": 0.066702,
     "end_time": "2021-01-10T14:33:29.775545",
     "exception": false,
     "start_time": "2021-01-10T14:33:29.708843",
     "status": "completed"
    },
    "tags": []
   },
   "outputs": [],
   "source": [
    "def stack_plot(data,xtick,col2=\"Recommended IND\",col3=\"total\"):\n",
    "    ind=np.arange(data.shape[0])\n",
    "    \n",
    "    plt.figure(figsize=(25,10))\n",
    "    \n",
    "    p1=plt.bar(ind,data[col3].values)\n",
    "    p2=plt.bar(ind,data[col2].values)\n",
    "    \n",
    "    plt.ylabel(\"Recommendation\")\n",
    "    plt.xticks(ind,list(data[xtick].values))\n",
    "    plt.legend((p1[0],p2[0]),(\"total\",\"recommended\"))\n",
    "    plt.show()\n",
    "    \n",
    "    "
   ]
  },
  {
   "cell_type": "code",
   "execution_count": 19,
   "metadata": {
    "execution": {
     "iopub.execute_input": "2021-01-10T14:33:29.899837Z",
     "iopub.status.busy": "2021-01-10T14:33:29.898801Z",
     "iopub.status.idle": "2021-01-10T14:33:29.902148Z",
     "shell.execute_reply": "2021-01-10T14:33:29.901506Z"
    },
    "papermill": {
     "duration": 0.069403,
     "end_time": "2021-01-10T14:33:29.902258",
     "exception": false,
     "start_time": "2021-01-10T14:33:29.832855",
     "status": "completed"
    },
    "tags": []
   },
   "outputs": [],
   "source": [
    "def univariate(data,col1,col2=\"Recommended IND\",top=False):\n",
    "    temp=pd.DataFrame(data.groupby(col1)[col2].agg(lambda x:x.eq(1).sum())).reset_index()\n",
    "    \n",
    "    recommend=temp[col2]\n",
    "    temp=pd.DataFrame(data.groupby(col1)[col2].agg([(\"Avg\",\"mean\"),(\"total\",\"count\")]).reset_index())\n",
    "    temp[col2]=recommend\n",
    "    \n",
    "    temp.sort_values(by=[\"total\"],inplace=True,ascending=False)\n",
    "    \n",
    "    if top:\n",
    "        temp=temp[0:top]\n",
    "        \n",
    "    stack_plot(temp,xtick=col1,col2=col2,col3=\"total\")\n",
    "    print(temp.head(5))\n",
    "    print(\"*\"*50)\n",
    "    print(temp.tail(5))"
   ]
  },
  {
   "cell_type": "code",
   "execution_count": 20,
   "metadata": {
    "execution": {
     "iopub.execute_input": "2021-01-10T14:33:30.017826Z",
     "iopub.status.busy": "2021-01-10T14:33:30.016801Z",
     "iopub.status.idle": "2021-01-10T14:33:43.521096Z",
     "shell.execute_reply": "2021-01-10T14:33:43.520449Z"
    },
    "papermill": {
     "duration": 13.563965,
     "end_time": "2021-01-10T14:33:43.521214",
     "exception": false,
     "start_time": "2021-01-10T14:33:29.957249",
     "status": "completed"
    },
    "tags": []
   },
   "outputs": [
    {
     "data": {
      "image/png": "[encoded data removed]",
      "text/plain": [
       "<Figure size 1800x720 with 1 Axes>"
      ]
     },
     "metadata": {
      "needs_background": "light"
     },
     "output_type": "display_data"
    },
    {
     "name": "stdout",
     "output_type": "stream",
     "text": [
      "     Clothing ID       Avg  total  Recommended IND\n",
      "974         1078  0.811711    871              707\n",
      "764          862  0.811550    658              534\n",
      "990         1094  0.818740    651              533\n",
      "977         1081  0.852156    487              415\n",
      "732          829  0.825221    452              373\n",
      "**************************************************\n",
      "      Clothing ID  Avg  total  Recommended IND\n",
      "682           778  1.0      1                1\n",
      "680           776  0.0      1                0\n",
      "679           775  1.0      1                1\n",
      "356           405  1.0      1                1\n",
      "1094         1205  1.0      1                1\n"
     ]
    }
   ],
   "source": [
    "univariate(data,\"Clothing ID\",\"Recommended IND\",False)"
   ]
  },
  {
   "cell_type": "markdown",
   "metadata": {
    "papermill": {
     "duration": 0.057502,
     "end_time": "2021-01-10T14:33:43.636385",
     "exception": false,
     "start_time": "2021-01-10T14:33:43.578883",
     "status": "completed"
    },
    "tags": []
   },
   "source": [
    "We can observe that, clothing_id 1078 is recommended 707 times out of 871 reviews.. <br>similarly Clothing_id 862 is recommended 534 times out of 658 reviews"
   ]
  },
  {
   "cell_type": "code",
   "execution_count": 21,
   "metadata": {
    "execution": {
     "iopub.execute_input": "2021-01-10T14:33:43.759386Z",
     "iopub.status.busy": "2021-01-10T14:33:43.758509Z",
     "iopub.status.idle": "2021-01-10T14:33:43.970050Z",
     "shell.execute_reply": "2021-01-10T14:33:43.968957Z"
    },
    "papermill": {
     "duration": 0.27637,
     "end_time": "2021-01-10T14:33:43.970181",
     "exception": false,
     "start_time": "2021-01-10T14:33:43.693811",
     "status": "completed"
    },
    "tags": []
   },
   "outputs": [
    {
     "data": {
      "image/png": "[encoded data removed]",
      "text/plain": [
       "<Figure size 1800x720 with 1 Axes>"
      ]
     },
     "metadata": {
      "needs_background": "light"
     },
     "output_type": "display_data"
    },
    {
     "name": "stdout",
     "output_type": "stream",
     "text": [
      "    Division Name       Avg  total  Recommended IND\n",
      "0         General  0.813615  11664             9490\n",
      "1  General Petite  0.820744   6778             5563\n",
      "2       Initmates  0.847541   1220             1034\n",
      "**************************************************\n",
      "    Division Name       Avg  total  Recommended IND\n",
      "0         General  0.813615  11664             9490\n",
      "1  General Petite  0.820744   6778             5563\n",
      "2       Initmates  0.847541   1220             1034\n"
     ]
    }
   ],
   "source": [
    "univariate(data,\"Division Name\",\"Recommended IND\",False)"
   ]
  },
  {
   "cell_type": "markdown",
   "metadata": {
    "papermill": {
     "duration": 0.060613,
     "end_time": "2021-01-10T14:33:44.089269",
     "exception": false,
     "start_time": "2021-01-10T14:33:44.028656",
     "status": "completed"
    },
    "tags": []
   },
   "source": [
    "We can observe that General division dresses recommended 9490 times out of 11664 of general dress reviews."
   ]
  },
  {
   "cell_type": "code",
   "execution_count": 22,
   "metadata": {
    "execution": {
     "iopub.execute_input": "2021-01-10T14:33:44.217326Z",
     "iopub.status.busy": "2021-01-10T14:33:44.216150Z",
     "iopub.status.idle": "2021-01-10T14:33:44.453408Z",
     "shell.execute_reply": "2021-01-10T14:33:44.454007Z"
    },
    "papermill": {
     "duration": 0.30538,
     "end_time": "2021-01-10T14:33:44.454164",
     "exception": false,
     "start_time": "2021-01-10T14:33:44.148784",
     "status": "completed"
    },
    "tags": []
   },
   "outputs": [
    {
     "data": {
      "image/png": "[encoded data removed]",
      "text/plain": [
       "<Figure size 1800x720 with 1 Axes>"
      ]
     },
     "metadata": {
      "needs_background": "light"
     },
     "output_type": "display_data"
    },
    {
     "name": "stdout",
     "output_type": "stream",
     "text": [
      "  Department Name       Avg  total  Recommended IND\n",
      "4            Tops  0.808791   8713             7047\n",
      "1         Dresses  0.803202   5371             4314\n",
      "0         Bottoms  0.852701   3184             2715\n",
      "2        Intimate  0.845881   1408             1191\n",
      "3         Jackets  0.840728    879              739\n",
      "**************************************************\n",
      "  Department Name       Avg  total  Recommended IND\n",
      "1         Dresses  0.803202   5371             4314\n",
      "0         Bottoms  0.852701   3184             2715\n",
      "2        Intimate  0.845881   1408             1191\n",
      "3         Jackets  0.840728    879              739\n",
      "5           Trend  0.757009    107               81\n"
     ]
    }
   ],
   "source": [
    "univariate(data,\"Department Name\",\"Recommended IND\",False)"
   ]
  },
  {
   "cell_type": "markdown",
   "metadata": {
    "papermill": {
     "duration": 0.060575,
     "end_time": "2021-01-10T14:33:44.576377",
     "exception": false,
     "start_time": "2021-01-10T14:33:44.515802",
     "status": "completed"
    },
    "tags": []
   },
   "source": [
    "Tops are recommended 7047 times out of 8713 tops reviews"
   ]
  },
  {
   "cell_type": "code",
   "execution_count": 23,
   "metadata": {
    "execution": {
     "iopub.execute_input": "2021-01-10T14:33:44.704704Z",
     "iopub.status.busy": "2021-01-10T14:33:44.703569Z",
     "iopub.status.idle": "2021-01-10T14:33:45.071011Z",
     "shell.execute_reply": "2021-01-10T14:33:45.069370Z"
    },
    "papermill": {
     "duration": 0.433925,
     "end_time": "2021-01-10T14:33:45.071150",
     "exception": false,
     "start_time": "2021-01-10T14:33:44.637225",
     "status": "completed"
    },
    "tags": []
   },
   "outputs": [
    {
     "data": {
      "image/png": "[encoded data removed]",
      "text/plain": [
       "<Figure size 1800x720 with 1 Axes>"
      ]
     },
     "metadata": {
      "needs_background": "light"
     },
     "output_type": "display_data"
    },
    {
     "name": "stdout",
     "output_type": "stream",
     "text": [
      "   Class Name       Avg  total  Recommended IND\n",
      "3     Dresses  0.803202   5371             4314\n",
      "8       Knits  0.806330   3981             3210\n",
      "0     Blouses  0.809432   2587             2094\n",
      "17   Sweaters  0.795567   1218              969\n",
      "13      Pants  0.840968   1157              973\n",
      "**************************************************\n",
      "        Class Name       Avg  total  Recommended IND\n",
      "5        Intimates  0.866667    120              104\n",
      "9         Layering  0.886957    115              102\n",
      "19           Trend  0.757009    107               81\n",
      "1   Casual bottoms  1.000000      1                1\n",
      "2         Chemises  1.000000      1                1\n"
     ]
    }
   ],
   "source": [
    "univariate(data,\"Class Name\",\"Recommended IND\",False)"
   ]
  },
  {
   "cell_type": "markdown",
   "metadata": {
    "papermill": {
     "duration": 0.060792,
     "end_time": "2021-01-10T14:33:45.193067",
     "exception": false,
     "start_time": "2021-01-10T14:33:45.132275",
     "status": "completed"
    },
    "tags": []
   },
   "source": [
    "Dresses recommended 4314 times out of 5371 dresses reviews"
   ]
  },
  {
   "cell_type": "code",
   "execution_count": 24,
   "metadata": {
    "execution": {
     "iopub.execute_input": "2021-01-10T14:33:45.331706Z",
     "iopub.status.busy": "2021-01-10T14:33:45.330955Z",
     "iopub.status.idle": "2021-01-10T14:33:45.561999Z",
     "shell.execute_reply": "2021-01-10T14:33:45.562526Z"
    },
    "papermill": {
     "duration": 0.308651,
     "end_time": "2021-01-10T14:33:45.562691",
     "exception": false,
     "start_time": "2021-01-10T14:33:45.254040",
     "status": "completed"
    },
    "tags": []
   },
   "outputs": [
    {
     "data": {
      "image/png": "[encoded data removed]",
      "text/plain": [
       "<Figure size 1800x720 with 1 Axes>"
      ]
     },
     "metadata": {
      "needs_background": "light"
     },
     "output_type": "display_data"
    },
    {
     "name": "stdout",
     "output_type": "stream",
     "text": [
      "   Rating       Avg  total  Recommended IND\n",
      "4       5  0.998066  10858            10837\n",
      "3       4  0.965959   4289             4143\n",
      "2       3  0.413961   2464             1020\n",
      "1       2  0.058824   1360               80\n",
      "0       1  0.010130    691                7\n",
      "**************************************************\n",
      "   Rating       Avg  total  Recommended IND\n",
      "4       5  0.998066  10858            10837\n",
      "3       4  0.965959   4289             4143\n",
      "2       3  0.413961   2464             1020\n",
      "1       2  0.058824   1360               80\n",
      "0       1  0.010130    691                7\n"
     ]
    }
   ],
   "source": [
    "univariate(data,\"Rating\",\"Recommended IND\",False)"
   ]
  },
  {
   "cell_type": "markdown",
   "metadata": {
    "papermill": {
     "duration": 0.062681,
     "end_time": "2021-01-10T14:33:45.688635",
     "exception": false,
     "start_time": "2021-01-10T14:33:45.625954",
     "status": "completed"
    },
    "tags": []
   },
   "source": [
    "We can observe that the clothings which are rated 5 are highly recommended.. 10837 clothings which rated 5 are recommended out of 10858..<br>\n",
    "ratings with 1 are not much recommended. only 7 clothings which are rated 1 are recommended out of 691..<br>***So we can say the higher the rating higher is the recommendation....***"
   ]
  },
  {
   "cell_type": "code",
   "execution_count": 25,
   "metadata": {
    "execution": {
     "iopub.execute_input": "2021-01-10T14:33:45.824636Z",
     "iopub.status.busy": "2021-01-10T14:33:45.823913Z",
     "iopub.status.idle": "2021-01-10T14:33:46.926230Z",
     "shell.execute_reply": "2021-01-10T14:33:46.927173Z"
    },
    "papermill": {
     "duration": 1.173226,
     "end_time": "2021-01-10T14:33:46.927404",
     "exception": false,
     "start_time": "2021-01-10T14:33:45.754178",
     "status": "completed"
    },
    "tags": []
   },
   "outputs": [
    {
     "data": {
      "image/png": "[encoded data removed]",
      "text/plain": [
       "<Figure size 1800x720 with 1 Axes>"
      ]
     },
     "metadata": {
      "needs_background": "light"
     },
     "output_type": "display_data"
    },
    {
     "name": "stdout",
     "output_type": "stream",
     "text": [
      "   Positive Feedback Count       Avg  total  Recommended IND\n",
      "0                        0  0.841545   8930             7515\n",
      "1                        1  0.826099   3502             2893\n",
      "2                        2  0.816433   1923             1570\n",
      "3                        3  0.812401   1258             1022\n",
      "4                        4  0.774595    803              622\n",
      "**************************************************\n",
      "    Positive Feedback Count  Avg  total  Recommended IND\n",
      "60                       64  1.0      1                1\n",
      "59                       61  1.0      1                1\n",
      "58                       59  1.0      1                1\n",
      "50                       50  1.0      1                1\n",
      "78                      122  1.0      1                1\n"
     ]
    }
   ],
   "source": [
    "univariate(data,\"Positive Feedback Count\",\"Recommended IND\",False)"
   ]
  },
  {
   "cell_type": "code",
   "execution_count": 26,
   "metadata": {
    "execution": {
     "iopub.execute_input": "2021-01-10T14:33:47.067688Z",
     "iopub.status.busy": "2021-01-10T14:33:47.066892Z",
     "iopub.status.idle": "2021-01-10T14:33:48.490910Z",
     "shell.execute_reply": "2021-01-10T14:33:48.491624Z"
    },
    "papermill": {
     "duration": 1.496511,
     "end_time": "2021-01-10T14:33:48.491806",
     "exception": false,
     "start_time": "2021-01-10T14:33:46.995295",
     "status": "completed"
    },
    "tags": []
   },
   "outputs": [
    {
     "data": {
      "image/png": "[encoded data removed]",
      "text/plain": [
       "<Figure size 1800x720 with 1 Axes>"
      ]
     },
     "metadata": {
      "needs_background": "light"
     },
     "output_type": "display_data"
    },
    {
     "name": "stdout",
     "output_type": "stream",
     "text": [
      "    Age       Avg  total  Recommended IND\n",
      "21   39  0.872167   1103              962\n",
      "17   35  0.785714    728              572\n",
      "16   34  0.816143    669              546\n",
      "18   36  0.823795    664              547\n",
      "20   38  0.784195    658              516\n",
      "**************************************************\n",
      "    Age  Avg  total  Recommended IND\n",
      "74   93  1.0      2                2\n",
      "69   87  1.0      1                1\n",
      "73   92  1.0      1                1\n",
      "75   94  1.0      1                1\n",
      "76   99  1.0      1                1\n"
     ]
    }
   ],
   "source": [
    "univariate(data,\"Age\",\"Recommended IND\",False)"
   ]
  },
  {
   "cell_type": "markdown",
   "metadata": {
    "papermill": {
     "duration": 0.06596,
     "end_time": "2021-01-10T14:33:48.623480",
     "exception": false,
     "start_time": "2021-01-10T14:33:48.557520",
     "status": "completed"
    },
    "tags": []
   },
   "source": [
    "From this we could say that reviewers of age 39 recommended 962 clothings out of 1103. and they are the people who shopped most."
   ]
  },
  {
   "cell_type": "code",
   "execution_count": 27,
   "metadata": {
    "execution": {
     "iopub.execute_input": "2021-01-10T14:33:48.767378Z",
     "iopub.status.busy": "2021-01-10T14:33:48.766223Z",
     "iopub.status.idle": "2021-01-10T14:33:48.983205Z",
     "shell.execute_reply": "2021-01-10T14:33:48.983739Z"
    },
    "papermill": {
     "duration": 0.294084,
     "end_time": "2021-01-10T14:33:48.983906",
     "exception": false,
     "start_time": "2021-01-10T14:33:48.689822",
     "status": "completed"
    },
    "tags": []
   },
   "outputs": [
    {
     "data": {
      "image/png": "[encoded data removed]",
      "text/plain": [
       "<Figure size 1440x360 with 1 Axes>"
      ]
     },
     "metadata": {
      "needs_background": "light"
     },
     "output_type": "display_data"
    }
   ],
   "source": [
    "#How to calculate number of words in a string in DataFrame: https://stackoverflow.com/a/37483537/4084039\n",
    "word_count = data['Title'].str.split().apply(len).value_counts()\n",
    "word_dict = dict(word_count)\n",
    "word_dict = dict(sorted(word_dict.items(), key=lambda kv: kv[1]))\n",
    "\n",
    "\n",
    "ind = np.arange(len(word_dict))\n",
    "plt.figure(figsize=(20,5))\n",
    "p1 = plt.bar(ind, list(word_dict.values()))\n",
    "\n",
    "plt.ylabel('total')\n",
    "plt.title('Words for each title')\n",
    "plt.xticks(ind, list(word_dict.keys()))\n",
    "plt.show()"
   ]
  },
  {
   "cell_type": "markdown",
   "metadata": {
    "papermill": {
     "duration": 0.066203,
     "end_time": "2021-01-10T14:33:49.117620",
     "exception": false,
     "start_time": "2021-01-10T14:33:49.051417",
     "status": "completed"
    },
    "tags": []
   },
   "source": [
    "Most of the title contain only two words.. second highest is 3 words.."
   ]
  },
  {
   "cell_type": "markdown",
   "metadata": {
    "papermill": {
     "duration": 0.06623,
     "end_time": "2021-01-10T14:33:49.249483",
     "exception": false,
     "start_time": "2021-01-10T14:33:49.183253",
     "status": "completed"
    },
    "tags": []
   },
   "source": [
    "# Cleaning the data......"
   ]
  },
  {
   "cell_type": "code",
   "execution_count": 28,
   "metadata": {
    "execution": {
     "iopub.execute_input": "2021-01-10T14:33:49.428206Z",
     "iopub.status.busy": "2021-01-10T14:33:49.398949Z",
     "iopub.status.idle": "2021-01-10T14:33:49.436749Z",
     "shell.execute_reply": "2021-01-10T14:33:49.437289Z"
    },
    "papermill": {
     "duration": 0.115771,
     "end_time": "2021-01-10T14:33:49.437437",
     "exception": false,
     "start_time": "2021-01-10T14:33:49.321666",
     "status": "completed"
    },
    "tags": []
   },
   "outputs": [
    {
     "data": {
      "text/plain": [
       "dresses           5371\n",
       "knits             3981\n",
       "blouses           2587\n",
       "sweaters          1218\n",
       "pants             1157\n",
       "jeans              970\n",
       "fine_gauge         927\n",
       "skirts             796\n",
       "jackets            598\n",
       "lounge             574\n",
       "swim               293\n",
       "outerwear          281\n",
       "shorts             260\n",
       "sleep              174\n",
       "legwear            131\n",
       "intimates          120\n",
       "layering           115\n",
       "trend              107\n",
       "casual_bottoms       1\n",
       "chemises             1\n",
       "Name: Class Name, dtype: int64"
      ]
     },
     "execution_count": 28,
     "metadata": {},
     "output_type": "execute_result"
    }
   ],
   "source": [
    "#convert all letters to lower case, replace the space by _ \n",
    "data[\"Class Name\"]=data[\"Class Name\"].str.lower()\n",
    "data[\"Class Name\"]=data[\"Class Name\"].str.replace(\" \",\"_\")\n",
    "\n",
    "#Want to see the va;ue_counts??\n",
    "data[\"Class Name\"].value_counts()"
   ]
  },
  {
   "cell_type": "code",
   "execution_count": 29,
   "metadata": {
    "execution": {
     "iopub.execute_input": "2021-01-10T14:33:49.580926Z",
     "iopub.status.busy": "2021-01-10T14:33:49.580108Z",
     "iopub.status.idle": "2021-01-10T14:33:49.618927Z",
     "shell.execute_reply": "2021-01-10T14:33:49.618171Z"
    },
    "papermill": {
     "duration": 0.114245,
     "end_time": "2021-01-10T14:33:49.619064",
     "exception": false,
     "start_time": "2021-01-10T14:33:49.504819",
     "status": "completed"
    },
    "tags": []
   },
   "outputs": [
    {
     "data": {
      "text/plain": [
       "tops        8713\n",
       "dresses     5371\n",
       "bottoms     3184\n",
       "intimate    1408\n",
       "jackets      879\n",
       "trend        107\n",
       "Name: Department Name, dtype: int64"
      ]
     },
     "execution_count": 29,
     "metadata": {},
     "output_type": "execute_result"
    }
   ],
   "source": [
    "data[\"Department Name\"]=data[\"Department Name\"].str.lower()\n",
    "data[\"Department Name\"]=data[\"Department Name\"].str.replace(\" \",\"_\")\n",
    "data[\"Department Name\"].value_counts()"
   ]
  },
  {
   "cell_type": "code",
   "execution_count": 30,
   "metadata": {
    "execution": {
     "iopub.execute_input": "2021-01-10T14:33:49.793142Z",
     "iopub.status.busy": "2021-01-10T14:33:49.781744Z",
     "iopub.status.idle": "2021-01-10T14:33:49.801197Z",
     "shell.execute_reply": "2021-01-10T14:33:49.800644Z"
    },
    "papermill": {
     "duration": 0.114892,
     "end_time": "2021-01-10T14:33:49.801315",
     "exception": false,
     "start_time": "2021-01-10T14:33:49.686423",
     "status": "completed"
    },
    "tags": []
   },
   "outputs": [
    {
     "data": {
      "text/plain": [
       "general           11664\n",
       "general_petite     6778\n",
       "initmates          1220\n",
       "Name: Division Name, dtype: int64"
      ]
     },
     "execution_count": 30,
     "metadata": {},
     "output_type": "execute_result"
    }
   ],
   "source": [
    "data[\"Division Name\"]=data[\"Division Name\"].str.lower()\n",
    "data[\"Division Name\"]=data[\"Division Name\"].str.replace(\" \",\"_\")\n",
    "data[\"Division Name\"].value_counts()"
   ]
  },
  {
   "cell_type": "code",
   "execution_count": 31,
   "metadata": {
    "execution": {
     "iopub.execute_input": "2021-01-10T14:33:49.946514Z",
     "iopub.status.busy": "2021-01-10T14:33:49.945845Z",
     "iopub.status.idle": "2021-01-10T14:33:49.949677Z",
     "shell.execute_reply": "2021-01-10T14:33:49.948988Z"
    },
    "papermill": {
     "duration": 0.078901,
     "end_time": "2021-01-10T14:33:49.949808",
     "exception": false,
     "start_time": "2021-01-10T14:33:49.870907",
     "status": "completed"
    },
    "tags": []
   },
   "outputs": [],
   "source": [
    "#let us define a function to replace shorthand notations with full...."
   ]
  },
  {
   "cell_type": "code",
   "execution_count": 32,
   "metadata": {
    "execution": {
     "iopub.execute_input": "2021-01-10T14:33:50.100150Z",
     "iopub.status.busy": "2021-01-10T14:33:50.099328Z",
     "iopub.status.idle": "2021-01-10T14:33:50.102408Z",
     "shell.execute_reply": "2021-01-10T14:33:50.101862Z"
    },
    "papermill": {
     "duration": 0.081155,
     "end_time": "2021-01-10T14:33:50.102521",
     "exception": false,
     "start_time": "2021-01-10T14:33:50.021366",
     "status": "completed"
    },
    "tags": []
   },
   "outputs": [],
   "source": [
    "# https://stackoverflow.com/a/47091490/4084039\n",
    "import re\n",
    "\n",
    "def decontracted(phrase):\n",
    "    # specific\n",
    "    phrase = re.sub(r\"won't\", \"will not\", phrase)\n",
    "    phrase = re.sub(r\"can\\'t\", \"can not\", phrase)\n",
    "\n",
    "    # general\n",
    "    phrase = re.sub(r\"n\\'t\", \" not\", phrase)\n",
    "    phrase = re.sub(r\"\\'re\", \" are\", phrase)\n",
    "    phrase = re.sub(r\"\\'s\", \" is\", phrase)\n",
    "    phrase = re.sub(r\"\\'d\", \" would\", phrase)\n",
    "    phrase = re.sub(r\"\\'ll\", \" will\", phrase)\n",
    "    phrase = re.sub(r\"\\'t\", \" not\", phrase)\n",
    "    phrase = re.sub(r\"\\'ve\", \" have\", phrase)\n",
    "    phrase = re.sub(r\"\\'m\", \" am\", phrase)\n",
    "    return phrase"
   ]
  },
  {
   "cell_type": "code",
   "execution_count": 33,
   "metadata": {
    "execution": {
     "iopub.execute_input": "2021-01-10T14:33:50.254637Z",
     "iopub.status.busy": "2021-01-10T14:33:50.252340Z",
     "iopub.status.idle": "2021-01-10T14:33:50.258480Z",
     "shell.execute_reply": "2021-01-10T14:33:50.257787Z"
    },
    "papermill": {
     "duration": 0.087679,
     "end_time": "2021-01-10T14:33:50.258590",
     "exception": false,
     "start_time": "2021-01-10T14:33:50.170911",
     "status": "completed"
    },
    "tags": []
   },
   "outputs": [],
   "source": [
    "# https://gist.github.com/sebleier/554280\n",
    "# we are removing the words from the stop words list: 'no', 'nor', 'not'\n",
    "stopwords= ['i', 'me', 'my', 'myself', 'we', 'our', 'ours', 'ourselves', 'you', \"you're\", \"you've\",\\\n",
    "            \"you'll\", \"you'd\", 'your', 'yours', 'yourself', 'yourselves', 'he', 'him', 'his', 'himself', \\\n",
    "            'she', \"she's\", 'her', 'hers', 'herself', 'it', \"it's\", 'its', 'itself', 'they', 'them', 'their',\\\n",
    "            'theirs', 'themselves', 'what', 'which', 'who', 'whom', 'this', 'that', \"that'll\", 'these', 'those', \\\n",
    "            'am', 'is', 'are', 'was', 'were', 'be', 'been', 'being', 'have', 'has', 'had', 'having', 'do', 'does', \\\n",
    "            'did', 'doing', 'a', 'an', 'the', 'and', 'but', 'if', 'or', 'because', 'as', 'until', 'while', 'of', \\\n",
    "            'at', 'by', 'for', 'with', 'about', 'against', 'between', 'into', 'through', 'during', 'before', 'after',\\\n",
    "            'above', 'below', 'to', 'from', 'up', 'down', 'in', 'out', 'on', 'off', 'over', 'under', 'again', 'further',\\\n",
    "            'then', 'once', 'here', 'there', 'when', 'where', 'why', 'how', 'all', 'any', 'both', 'each', 'few', 'more',\\\n",
    "            'most', 'other', 'some', 'such', 'only', 'own', 'same', 'so', 'than', 'too', 'very', \\\n",
    "            's', 't', 'can', 'will', 'just', 'don', \"don't\", 'should', \"should've\", 'now', 'd', 'll', 'm', 'o', 're', \\\n",
    "            've', 'y', 'ain', 'aren', \"aren't\", 'couldn', \"couldn't\", 'didn', \"didn't\", 'doesn', \"doesn't\", 'hadn',\\\n",
    "            \"hadn't\", 'hasn', \"hasn't\", 'haven', \"haven't\", 'isn', \"isn't\", 'ma', 'mightn', \"mightn't\", 'mustn',\\\n",
    "            \"mustn't\", 'needn', \"needn't\", 'shan', \"shan't\", 'shouldn', \"shouldn't\", 'wasn', \"wasn't\", 'weren', \"weren't\", \\\n",
    "            'won', \"won't\", 'wouldn', \"wouldn't\"]"
   ]
  },
  {
   "cell_type": "code",
   "execution_count": 34,
   "metadata": {
    "execution": {
     "iopub.execute_input": "2021-01-10T14:33:50.405386Z",
     "iopub.status.busy": "2021-01-10T14:33:50.404664Z",
     "iopub.status.idle": "2021-01-10T14:33:50.407880Z",
     "shell.execute_reply": "2021-01-10T14:33:50.407324Z"
    },
    "papermill": {
     "duration": 0.080059,
     "end_time": "2021-01-10T14:33:50.407990",
     "exception": false,
     "start_time": "2021-01-10T14:33:50.327931",
     "status": "completed"
    },
    "tags": []
   },
   "outputs": [],
   "source": [
    "# Combining all the above......\n",
    "from tqdm import tqdm\n",
    "def preprocess_text(text_data):\n",
    "    preprocessed_text = []\n",
    "    # tqdm is for printing the status bar\n",
    "    for sentance in tqdm(text_data):\n",
    "        sent = decontracted(sentance)\n",
    "        sent = sent.replace('\\\\r', ' ')\n",
    "        sent = sent.replace('\\\\n', ' ')\n",
    "        sent = sent.replace('\\\\\"', ' ')\n",
    "        sent = re.sub('[^A-Za-z0-9]+', ' ', sent)\n",
    "        # https://gist.github.com/sebleier/554280\n",
    "        sent = ' '.join(e for e in sent.split() if e.lower() not in stopwords)\n",
    "        preprocessed_text.append(sent.lower().strip())\n",
    "    return preprocessed_text"
   ]
  },
  {
   "cell_type": "code",
   "execution_count": 35,
   "metadata": {
    "execution": {
     "iopub.execute_input": "2021-01-10T14:33:50.552277Z",
     "iopub.status.busy": "2021-01-10T14:33:50.551531Z",
     "iopub.status.idle": "2021-01-10T14:33:51.169851Z",
     "shell.execute_reply": "2021-01-10T14:33:51.168747Z"
    },
    "papermill": {
     "duration": 0.6934,
     "end_time": "2021-01-10T14:33:51.170121",
     "exception": false,
     "start_time": "2021-01-10T14:33:50.476721",
     "status": "completed"
    },
    "tags": []
   },
   "outputs": [
    {
     "name": "stderr",
     "output_type": "stream",
     "text": [
      "100%|██████████| 19662/19662 [00:00<00:00, 32261.45it/s]\n"
     ]
    }
   ],
   "source": [
    "preprocessed_title=preprocess_text(data[\"Title\"].values)"
   ]
  },
  {
   "cell_type": "code",
   "execution_count": 36,
   "metadata": {
    "execution": {
     "iopub.execute_input": "2021-01-10T14:33:51.341544Z",
     "iopub.status.busy": "2021-01-10T14:33:51.340393Z",
     "iopub.status.idle": "2021-01-10T14:33:51.344807Z",
     "shell.execute_reply": "2021-01-10T14:33:51.344002Z"
    },
    "papermill": {
     "duration": 0.09641,
     "end_time": "2021-01-10T14:33:51.344944",
     "exception": false,
     "start_time": "2021-01-10T14:33:51.248534",
     "status": "completed"
    },
    "tags": []
   },
   "outputs": [],
   "source": [
    "#lets replace the title column in the dataframe with preprocessed title.\n",
    "data[\"Title\"]=preprocessed_title"
   ]
  },
  {
   "cell_type": "code",
   "execution_count": 37,
   "metadata": {
    "execution": {
     "iopub.execute_input": "2021-01-10T14:33:51.523938Z",
     "iopub.status.busy": "2021-01-10T14:33:51.523232Z",
     "iopub.status.idle": "2021-01-10T14:33:51.527147Z",
     "shell.execute_reply": "2021-01-10T14:33:51.526551Z"
    },
    "papermill": {
     "duration": 0.086877,
     "end_time": "2021-01-10T14:33:51.527255",
     "exception": false,
     "start_time": "2021-01-10T14:33:51.440378",
     "status": "completed"
    },
    "tags": []
   },
   "outputs": [
    {
     "data": {
      "text/plain": [
       "\"I love, love, love this jumpsuit. it's fun, flirty, and fabulous! every time i wear it, i get nothing but great compliments!\""
      ]
     },
     "execution_count": 37,
     "metadata": {},
     "output_type": "execute_result"
    }
   ],
   "source": [
    "#lets see how the review text looks like before preprocessing..(here we can see the 2nd review)\n",
    "data[\"Review Text\"][1]"
   ]
  },
  {
   "cell_type": "code",
   "execution_count": 38,
   "metadata": {
    "execution": {
     "iopub.execute_input": "2021-01-10T14:33:51.677221Z",
     "iopub.status.busy": "2021-01-10T14:33:51.676536Z",
     "iopub.status.idle": "2021-01-10T14:33:55.693296Z",
     "shell.execute_reply": "2021-01-10T14:33:55.693815Z"
    },
    "papermill": {
     "duration": 4.093144,
     "end_time": "2021-01-10T14:33:55.693956",
     "exception": false,
     "start_time": "2021-01-10T14:33:51.600812",
     "status": "completed"
    },
    "tags": []
   },
   "outputs": [
    {
     "name": "stderr",
     "output_type": "stream",
     "text": [
      "100%|██████████| 19662/19662 [00:04<00:00, 4904.62it/s]\n"
     ]
    }
   ],
   "source": [
    "preprocessed_review=preprocess_text(data[\"Review Text\"].values)"
   ]
  },
  {
   "cell_type": "code",
   "execution_count": 39,
   "metadata": {
    "execution": {
     "iopub.execute_input": "2021-01-10T14:33:55.876718Z",
     "iopub.status.busy": "2021-01-10T14:33:55.875976Z",
     "iopub.status.idle": "2021-01-10T14:33:55.879670Z",
     "shell.execute_reply": "2021-01-10T14:33:55.880456Z"
    },
    "papermill": {
     "duration": 0.097979,
     "end_time": "2021-01-10T14:33:55.880635",
     "exception": false,
     "start_time": "2021-01-10T14:33:55.782656",
     "status": "completed"
    },
    "tags": []
   },
   "outputs": [
    {
     "data": {
      "text/plain": [
       "'love love love jumpsuit fun flirty fabulous every time wear get nothing great compliments'"
      ]
     },
     "execution_count": 39,
     "metadata": {},
     "output_type": "execute_result"
    }
   ],
   "source": [
    "preprocessed_review[1]"
   ]
  },
  {
   "cell_type": "code",
   "execution_count": 40,
   "metadata": {
    "execution": {
     "iopub.execute_input": "2021-01-10T14:33:56.063523Z",
     "iopub.status.busy": "2021-01-10T14:33:56.062882Z",
     "iopub.status.idle": "2021-01-10T14:33:56.069943Z",
     "shell.execute_reply": "2021-01-10T14:33:56.070498Z"
    },
    "papermill": {
     "duration": 0.100741,
     "end_time": "2021-01-10T14:33:56.070662",
     "exception": false,
     "start_time": "2021-01-10T14:33:55.969921",
     "status": "completed"
    },
    "tags": []
   },
   "outputs": [],
   "source": [
    "#lets replace the review column in the dataframe with preprocessed review.\n",
    "data[\"Review Text\"]=preprocessed_review"
   ]
  },
  {
   "cell_type": "code",
   "execution_count": 41,
   "metadata": {
    "execution": {
     "iopub.execute_input": "2021-01-10T14:33:56.247747Z",
     "iopub.status.busy": "2021-01-10T14:33:56.246993Z",
     "iopub.status.idle": "2021-01-10T14:33:56.265369Z",
     "shell.execute_reply": "2021-01-10T14:33:56.264785Z"
    },
    "papermill": {
     "duration": 0.107603,
     "end_time": "2021-01-10T14:33:56.265491",
     "exception": false,
     "start_time": "2021-01-10T14:33:56.157888",
     "status": "completed"
    },
    "tags": []
   },
   "outputs": [
    {
     "data": {
      "text/html": [
       "<div>\n",
       "<style scoped>\n",
       "    .dataframe tbody tr th:only-of-type {\n",
       "        vertical-align: middle;\n",
       "    }\n",
       "\n",
       "    .dataframe tbody tr th {\n",
       "        vertical-align: top;\n",
       "    }\n",
       "\n",
       "    .dataframe thead th {\n",
       "        text-align: right;\n",
       "    }\n",
       "</style>\n",
       "<table border=\"1\" class=\"dataframe\">\n",
       "  <thead>\n",
       "    <tr style=\"text-align: right;\">\n",
       "      <th></th>\n",
       "      <th>index</th>\n",
       "      <th>Clothing ID</th>\n",
       "      <th>Age</th>\n",
       "      <th>Title</th>\n",
       "      <th>Review Text</th>\n",
       "      <th>Rating</th>\n",
       "      <th>Positive Feedback Count</th>\n",
       "      <th>Division Name</th>\n",
       "      <th>Department Name</th>\n",
       "      <th>Class Name</th>\n",
       "    </tr>\n",
       "  </thead>\n",
       "  <tbody>\n",
       "    <tr>\n",
       "      <th>0</th>\n",
       "      <td>2</td>\n",
       "      <td>1077</td>\n",
       "      <td>60</td>\n",
       "      <td>major design flaws</td>\n",
       "      <td>high hopes dress really wanted work initially ...</td>\n",
       "      <td>3</td>\n",
       "      <td>0</td>\n",
       "      <td>general</td>\n",
       "      <td>dresses</td>\n",
       "      <td>dresses</td>\n",
       "    </tr>\n",
       "  </tbody>\n",
       "</table>\n",
       "</div>"
      ],
      "text/plain": [
       "   index  Clothing ID  Age               Title  \\\n",
       "0      2         1077   60  major design flaws   \n",
       "\n",
       "                                         Review Text  Rating  \\\n",
       "0  high hopes dress really wanted work initially ...       3   \n",
       "\n",
       "   Positive Feedback Count Division Name Department Name Class Name  \n",
       "0                        0       general         dresses    dresses  "
      ]
     },
     "execution_count": 41,
     "metadata": {},
     "output_type": "execute_result"
    }
   ],
   "source": [
    "#Lets take out our class label (recommended ind) and keep it in variable y..\n",
    "# because this is the class label that we have to predict given all other features.\n",
    "#and all other features are kept in x variable..\n",
    "y=data[\"Recommended IND\"]\n",
    "x=data.drop([\"Recommended IND\"],axis=1)\n",
    "x.head(1)"
   ]
  },
  {
   "cell_type": "code",
   "execution_count": 42,
   "metadata": {
    "execution": {
     "iopub.execute_input": "2021-01-10T14:33:56.450943Z",
     "iopub.status.busy": "2021-01-10T14:33:56.450177Z",
     "iopub.status.idle": "2021-01-10T14:33:56.510863Z",
     "shell.execute_reply": "2021-01-10T14:33:56.510107Z"
    },
    "papermill": {
     "duration": 0.155186,
     "end_time": "2021-01-10T14:33:56.510986",
     "exception": false,
     "start_time": "2021-01-10T14:33:56.355800",
     "status": "completed"
    },
    "tags": []
   },
   "outputs": [],
   "source": [
    "#NOW, split data into train,cv,test data.......\n",
    "from sklearn.model_selection import train_test_split\n",
    "X_train,x_test,Y_train,y_test=train_test_split(x,y,test_size=0.33,stratify=y, random_state =41)\n",
    "x_train,x_cv,y_train,y_cv=train_test_split(X_train,Y_train,test_size=0.33,stratify=Y_train, random_state =41)"
   ]
  },
  {
   "cell_type": "markdown",
   "metadata": {
    "papermill": {
     "duration": 0.088088,
     "end_time": "2021-01-10T14:33:56.688057",
     "exception": false,
     "start_time": "2021-01-10T14:33:56.599969",
     "status": "completed"
    },
    "tags": []
   },
   "source": [
    "# PRE_PROCESSING......."
   ]
  },
  {
   "cell_type": "markdown",
   "metadata": {
    "papermill": {
     "duration": 0.088584,
     "end_time": "2021-01-10T14:33:56.865756",
     "exception": false,
     "start_time": "2021-01-10T14:33:56.777172",
     "status": "completed"
    },
    "tags": []
   },
   "source": [
    "# Bag Of Words(BOW)"
   ]
  },
  {
   "cell_type": "code",
   "execution_count": 43,
   "metadata": {
    "execution": {
     "iopub.execute_input": "2021-01-10T14:33:57.074355Z",
     "iopub.status.busy": "2021-01-10T14:33:57.073265Z",
     "iopub.status.idle": "2021-01-10T14:33:57.332102Z",
     "shell.execute_reply": "2021-01-10T14:33:57.332945Z"
    },
    "papermill": {
     "duration": 0.367741,
     "end_time": "2021-01-10T14:33:57.333155",
     "exception": false,
     "start_time": "2021-01-10T14:33:56.965414",
     "status": "completed"
    },
    "tags": []
   },
   "outputs": [
    {
     "name": "stdout",
     "output_type": "stream",
     "text": [
      "(8825, 10) (8825,)\n",
      "after vectorization....\n",
      "(8825, 2432) (8825,)\n",
      "(4348, 2432) (4348,)\n",
      "(6489, 2432) (6489,)\n"
     ]
    }
   ],
   "source": [
    "vec=CountVectorizer()\n",
    "vec.fit(x_train[\"Title\"].values)\n",
    "print(x_train.shape,y_train.shape)\n",
    "\n",
    "x_train_title=vec.transform(x_train[\"Title\"].values)\n",
    "x_cv_title=vec.transform(x_cv[\"Title\"].values)\n",
    "x_test_title=vec.transform(x_test[\"Title\"].values)\n",
    "\n",
    "print(\"after vectorization....\")\n",
    "print(x_train_title.shape,y_train.shape)\n",
    "print(x_cv_title.shape,y_cv.shape)\n",
    "print(x_test_title.shape,y_test.shape)"
   ]
  },
  {
   "cell_type": "code",
   "execution_count": 44,
   "metadata": {
    "execution": {
     "iopub.execute_input": "2021-01-10T14:33:57.525789Z",
     "iopub.status.busy": "2021-01-10T14:33:57.524750Z",
     "iopub.status.idle": "2021-01-10T14:33:58.816381Z",
     "shell.execute_reply": "2021-01-10T14:33:58.817020Z"
    },
    "papermill": {
     "duration": 1.389111,
     "end_time": "2021-01-10T14:33:58.817171",
     "exception": false,
     "start_time": "2021-01-10T14:33:57.428060",
     "status": "completed"
    },
    "tags": []
   },
   "outputs": [
    {
     "name": "stdout",
     "output_type": "stream",
     "text": [
      "after vectorization....\n",
      "(8825, 9459) (8825,)\n",
      "(4348, 9459) (4348,)\n",
      "(6489, 9459) (6489,)\n"
     ]
    }
   ],
   "source": [
    "vec=CountVectorizer()\n",
    "vec.fit(x_train[\"Review Text\"].values)\n",
    "\n",
    "x_train_rev=vec.transform(x_train[\"Review Text\"].values)\n",
    "x_cv_rev=vec.transform(x_cv[\"Review Text\"].values)\n",
    "x_test_rev=vec.transform(x_test[\"Review Text\"].values)\n",
    "\n",
    "print(\"after vectorization....\")\n",
    "print(x_train_rev.shape,y_train.shape)\n",
    "print(x_cv_rev.shape,y_cv.shape)\n",
    "print(x_test_rev.shape,y_test.shape)"
   ]
  },
  {
   "cell_type": "code",
   "execution_count": 45,
   "metadata": {
    "execution": {
     "iopub.execute_input": "2021-01-10T14:33:59.001013Z",
     "iopub.status.busy": "2021-01-10T14:33:59.000228Z",
     "iopub.status.idle": "2021-01-10T14:33:59.161864Z",
     "shell.execute_reply": "2021-01-10T14:33:59.162374Z"
    },
    "papermill": {
     "duration": 0.255396,
     "end_time": "2021-01-10T14:33:59.162535",
     "exception": false,
     "start_time": "2021-01-10T14:33:58.907139",
     "status": "completed"
    },
    "tags": []
   },
   "outputs": [
    {
     "name": "stdout",
     "output_type": "stream",
     "text": [
      "after vectorization....\n",
      "(8825, 3) (8825,)\n",
      "(4348, 3) (4348,)\n",
      "(6489, 3) (6489,)\n",
      "['general', 'general_petite', 'initmates']\n"
     ]
    }
   ],
   "source": [
    "vec=CountVectorizer()\n",
    "vec.fit(x_train[\"Division Name\"].values)\n",
    "\n",
    "x_train_div=vec.transform(x_train[\"Division Name\"].values)\n",
    "x_cv_div=vec.transform(x_cv[\"Division Name\"].values)\n",
    "x_test_div=vec.transform(x_test[\"Division Name\"].values)\n",
    "\n",
    "print(\"after vectorization....\")\n",
    "print(x_train_div.shape,y_train.shape)\n",
    "print(x_cv_div.shape,y_cv.shape)\n",
    "print(x_test_div.shape,y_test.shape)\n",
    "\n",
    "print(vec.get_feature_names())"
   ]
  },
  {
   "cell_type": "code",
   "execution_count": 46,
   "metadata": {
    "execution": {
     "iopub.execute_input": "2021-01-10T14:33:59.356070Z",
     "iopub.status.busy": "2021-01-10T14:33:59.355373Z",
     "iopub.status.idle": "2021-01-10T14:33:59.500995Z",
     "shell.execute_reply": "2021-01-10T14:33:59.501505Z"
    },
    "papermill": {
     "duration": 0.249248,
     "end_time": "2021-01-10T14:33:59.501719",
     "exception": false,
     "start_time": "2021-01-10T14:33:59.252471",
     "status": "completed"
    },
    "tags": []
   },
   "outputs": [
    {
     "name": "stdout",
     "output_type": "stream",
     "text": [
      "after vectorization....\n",
      "(8825, 6) (8825,)\n",
      "(4348, 6) (4348,)\n",
      "(6489, 6) (6489,)\n",
      "['bottoms', 'dresses', 'intimate', 'jackets', 'tops', 'trend']\n"
     ]
    }
   ],
   "source": [
    "vec=CountVectorizer()\n",
    "vec.fit(x_train[\"Department Name\"].values)\n",
    "\n",
    "x_train_dep=vec.transform(x_train[\"Department Name\"].values)\n",
    "x_cv_dep=vec.transform(x_cv[\"Department Name\"].values)\n",
    "x_test_dep=vec.transform(x_test[\"Department Name\"].values)\n",
    "\n",
    "print(\"after vectorization....\")\n",
    "print(x_train_dep.shape,y_train.shape)\n",
    "print(x_cv_dep.shape,y_cv.shape)\n",
    "print(x_test_dep.shape,y_test.shape)\n",
    "\n",
    "print(vec.get_feature_names())"
   ]
  },
  {
   "cell_type": "code",
   "execution_count": 47,
   "metadata": {
    "execution": {
     "iopub.execute_input": "2021-01-10T14:33:59.738302Z",
     "iopub.status.busy": "2021-01-10T14:33:59.723781Z",
     "iopub.status.idle": "2021-01-10T14:33:59.845747Z",
     "shell.execute_reply": "2021-01-10T14:33:59.844156Z"
    },
    "papermill": {
     "duration": 0.253864,
     "end_time": "2021-01-10T14:33:59.845879",
     "exception": false,
     "start_time": "2021-01-10T14:33:59.592015",
     "status": "completed"
    },
    "tags": []
   },
   "outputs": [
    {
     "name": "stdout",
     "output_type": "stream",
     "text": [
      "after vectorization....\n",
      "(8825, 19) (8825,)\n",
      "(4348, 19) (4348,)\n",
      "(6489, 19) (6489,)\n",
      "['blouses', 'casual_bottoms', 'dresses', 'fine_gauge', 'intimates', 'jackets', 'jeans', 'knits', 'layering', 'legwear', 'lounge', 'outerwear', 'pants', 'shorts', 'skirts', 'sleep', 'sweaters', 'swim', 'trend']\n"
     ]
    }
   ],
   "source": [
    "vec=CountVectorizer()\n",
    "vec.fit(x_train[\"Class Name\"].values)\n",
    "\n",
    "x_train_cls=vec.transform(x_train[\"Class Name\"].values)\n",
    "x_cv_cls=vec.transform(x_cv[\"Class Name\"].values)\n",
    "x_test_cls=vec.transform(x_test[\"Class Name\"].values)\n",
    "\n",
    "print(\"after vectorization....\")\n",
    "print(x_train_cls.shape,y_train.shape)\n",
    "print(x_cv_cls.shape,y_cv.shape)\n",
    "print(x_test_cls.shape,y_test.shape)\n",
    "\n",
    "print(vec.get_feature_names())\n"
   ]
  },
  {
   "cell_type": "code",
   "execution_count": 48,
   "metadata": {
    "execution": {
     "iopub.execute_input": "2021-01-10T14:34:00.035305Z",
     "iopub.status.busy": "2021-01-10T14:34:00.034393Z",
     "iopub.status.idle": "2021-01-10T14:34:00.037405Z",
     "shell.execute_reply": "2021-01-10T14:34:00.037909Z"
    },
    "papermill": {
     "duration": 0.100968,
     "end_time": "2021-01-10T14:34:00.038072",
     "exception": false,
     "start_time": "2021-01-10T14:33:59.937104",
     "status": "completed"
    },
    "tags": []
   },
   "outputs": [],
   "source": [
    "#We keep our rating data which is categorical data in numerical form as it is."
   ]
  },
  {
   "cell_type": "code",
   "execution_count": 49,
   "metadata": {
    "execution": {
     "iopub.execute_input": "2021-01-10T14:34:00.228817Z",
     "iopub.status.busy": "2021-01-10T14:34:00.227550Z",
     "iopub.status.idle": "2021-01-10T14:34:00.233422Z",
     "shell.execute_reply": "2021-01-10T14:34:00.232233Z"
    },
    "papermill": {
     "duration": 0.105432,
     "end_time": "2021-01-10T14:34:00.233630",
     "exception": false,
     "start_time": "2021-01-10T14:34:00.128198",
     "status": "completed"
    },
    "tags": []
   },
   "outputs": [
    {
     "name": "stdout",
     "output_type": "stream",
     "text": [
      "after vectorization.......\n",
      "(8825, 1) (8825,)\n",
      "(4348, 1) (4348,)\n",
      "(6489, 1) (6489,)\n"
     ]
    }
   ],
   "source": [
    "x_train_rate=(np.array(x_train[\"Rating\"])).reshape((-1,1))\n",
    "x_cv_rate=(np.array(x_cv[\"Rating\"])).reshape(-1,1)\n",
    "x_test_rate=(np.array(x_test[\"Rating\"])).reshape((-1,1))\n",
    "\n",
    "\n",
    "print(\"after vectorization.......\")\n",
    "print(x_train_rate.shape,y_train.shape)\n",
    "print(x_cv_rate.shape,y_cv.shape)\n",
    "print(x_test_rate.shape,y_test.shape)\n"
   ]
  },
  {
   "cell_type": "code",
   "execution_count": 50,
   "metadata": {
    "execution": {
     "iopub.execute_input": "2021-01-10T14:34:00.427686Z",
     "iopub.status.busy": "2021-01-10T14:34:00.426672Z",
     "iopub.status.idle": "2021-01-10T14:34:00.437581Z",
     "shell.execute_reply": "2021-01-10T14:34:00.436120Z"
    },
    "papermill": {
     "duration": 0.113196,
     "end_time": "2021-01-10T14:34:00.437745",
     "exception": false,
     "start_time": "2021-01-10T14:34:00.324549",
     "status": "completed"
    },
    "tags": []
   },
   "outputs": [
    {
     "name": "stdout",
     "output_type": "stream",
     "text": [
      "after vectorization.......\n",
      "(8825, 1) (8825,)\n",
      "(4348, 1) (4348,)\n",
      "(6489, 1) (6489,)\n"
     ]
    }
   ],
   "source": [
    "#normalize age column.\n",
    "from sklearn.preprocessing import Normalizer\n",
    "norm=Normalizer()\n",
    "\n",
    "norm.fit(x_train[\"Age\"].values.reshape(1,-1))\n",
    "\n",
    "x_train_age=norm.transform(x_train[\"Age\"].values.reshape(1,-1))\n",
    "x_cv_age=norm.transform(x_cv[\"Age\"].values.reshape(1,-1))\n",
    "x_test_age=norm.transform(x_test[\"Age\"].values.reshape(1,-1))\n",
    "\n",
    "x_train_age=x_train_age.reshape(-1,1)\n",
    "x_cv_age=x_cv_age.reshape(-1,1)\n",
    "x_test_age=x_test_age.reshape(-1,1)\n",
    "\n",
    "\n",
    "print(\"after vectorization.......\")\n",
    "print(x_train_age.shape,y_train.shape)\n",
    "print(x_cv_age.shape,y_cv.shape)\n",
    "print(x_test_age.shape,y_test.shape)\n"
   ]
  },
  {
   "cell_type": "code",
   "execution_count": 51,
   "metadata": {
    "execution": {
     "iopub.execute_input": "2021-01-10T14:34:00.629301Z",
     "iopub.status.busy": "2021-01-10T14:34:00.628225Z",
     "iopub.status.idle": "2021-01-10T14:34:00.631117Z",
     "shell.execute_reply": "2021-01-10T14:34:00.630373Z"
    },
    "papermill": {
     "duration": 0.100591,
     "end_time": "2021-01-10T14:34:00.631251",
     "exception": false,
     "start_time": "2021-01-10T14:34:00.530660",
     "status": "completed"
    },
    "tags": []
   },
   "outputs": [],
   "source": [
    "#Combining all the preprocessed data"
   ]
  },
  {
   "cell_type": "code",
   "execution_count": 52,
   "metadata": {
    "execution": {
     "iopub.execute_input": "2021-01-10T14:34:00.827206Z",
     "iopub.status.busy": "2021-01-10T14:34:00.826298Z",
     "iopub.status.idle": "2021-01-10T14:34:00.863351Z",
     "shell.execute_reply": "2021-01-10T14:34:00.862804Z"
    },
    "papermill": {
     "duration": 0.138952,
     "end_time": "2021-01-10T14:34:00.863471",
     "exception": false,
     "start_time": "2021-01-10T14:34:00.724519",
     "status": "completed"
    },
    "tags": []
   },
   "outputs": [
    {
     "name": "stdout",
     "output_type": "stream",
     "text": [
      "FINAL DATA MATRIX SHAPE IS ........\n",
      "(8825, 11921) (8825,)\n",
      "(4348, 11921) (4348,)\n",
      "(6489, 11921) (6489,)\n",
      "****************************************************************************************************\n"
     ]
    }
   ],
   "source": [
    "from scipy.sparse import hstack\n",
    "\n",
    "x_tr=hstack((x_train_rev,x_train_title,x_train_div,x_train_dep,x_train_cls,x_train_rate,x_train_age)).tocsr()\n",
    "x_cv=hstack((x_cv_rev,x_cv_title,x_cv_div,x_cv_dep,x_cv_cls,x_cv_rate,x_cv_age)).tocsr()\n",
    "x_te=hstack((x_test_rev,x_test_title,x_test_div,x_test_dep,x_test_cls,x_test_rate,x_test_age)).tocsr()\n",
    "\n",
    "print(\"FINAL DATA MATRIX SHAPE IS ........\")\n",
    "print(x_tr.shape,y_train.shape)\n",
    "print(x_cv.shape,y_cv.shape)\n",
    "print(x_te.shape,y_test.shape)\n",
    "print(\"*\"*100)"
   ]
  },
  {
   "cell_type": "code",
   "execution_count": 53,
   "metadata": {
    "execution": {
     "iopub.execute_input": "2021-01-10T14:34:01.056043Z",
     "iopub.status.busy": "2021-01-10T14:34:01.055289Z",
     "iopub.status.idle": "2021-01-10T14:34:01.058343Z",
     "shell.execute_reply": "2021-01-10T14:34:01.057650Z"
    },
    "papermill": {
     "duration": 0.100644,
     "end_time": "2021-01-10T14:34:01.058460",
     "exception": false,
     "start_time": "2021-01-10T14:34:00.957816",
     "status": "completed"
    },
    "tags": []
   },
   "outputs": [],
   "source": [
    "#This function takes classifier and data , and then gives probability_score of class label"
   ]
  },
  {
   "cell_type": "code",
   "execution_count": 54,
   "metadata": {
    "execution": {
     "iopub.execute_input": "2021-01-10T14:34:01.253496Z",
     "iopub.status.busy": "2021-01-10T14:34:01.252705Z",
     "iopub.status.idle": "2021-01-10T14:34:01.256737Z",
     "shell.execute_reply": "2021-01-10T14:34:01.256121Z"
    },
    "papermill": {
     "duration": 0.1052,
     "end_time": "2021-01-10T14:34:01.256851",
     "exception": false,
     "start_time": "2021-01-10T14:34:01.151651",
     "status": "completed"
    },
    "tags": []
   },
   "outputs": [],
   "source": [
    "def batch_predict(clf, data):\n",
    "    \"\"\"This function takes classifier and data , and then gives probability_score of class label\"\"\"\n",
    "    y_data_pred = []                                                 #list to store probability of class\n",
    "    tr_loop = data.shape[0] - data.shape[0]%1000                     #to loop through batchwise and took 1000 for batch\n",
    "    \n",
    "    for i in range(0, tr_loop, 1000):\n",
    "        y_data_pred.extend(clf.predict_proba(data[i:i+1000])[:,1])     # this loop for upto last 1000 multiplier\n",
    "    \n",
    "    if data.shape[0]%1000 !=0:                                        #predicting for last data\n",
    "        y_data_pred.extend(clf.predict_proba(data[tr_loop:])[:,1])\n",
    "    \n",
    "    return y_data_pred"
   ]
  },
  {
   "cell_type": "code",
   "execution_count": 55,
   "metadata": {
    "execution": {
     "iopub.execute_input": "2021-01-10T14:34:01.455106Z",
     "iopub.status.busy": "2021-01-10T14:34:01.450168Z",
     "iopub.status.idle": "2021-01-10T14:34:02.782322Z",
     "shell.execute_reply": "2021-01-10T14:34:02.781778Z"
    },
    "papermill": {
     "duration": 1.43314,
     "end_time": "2021-01-10T14:34:02.782441",
     "exception": false,
     "start_time": "2021-01-10T14:34:01.349301",
     "status": "completed"
    },
    "tags": []
   },
   "outputs": [
    {
     "name": "stderr",
     "output_type": "stream",
     "text": [
      "100%|██████████| 9/9 [00:00<00:00, 32.92it/s]\n"
     ]
    },
    {
     "data": {
      "image/png": "[encoded data removed]",
      "text/plain": [
       "<Figure size 432x288 with 1 Axes>"
      ]
     },
     "metadata": {
      "needs_background": "light"
     },
     "output_type": "display_data"
    }
   ],
   "source": [
    "import math\n",
    "import matplotlib.pyplot as plt\n",
    "from sklearn.naive_bayes import MultinomialNB\n",
    "from sklearn.metrics import roc_auc_score\n",
    "\n",
    "train_auc = []    \n",
    "cv_auc = []\n",
    "alpha = [0.00001,0.0001,0.001,0.01,0.1,1,10,50,100]         #to find the best alpha value\n",
    "for i in tqdm(alpha):\n",
    "    neigh = MultinomialNB(alpha=i,class_prior=[0.5,0.5],fit_prior=False)\n",
    "    neigh.fit(x_tr, y_train)\n",
    "\n",
    "    y_train_pred = batch_predict(neigh, x_tr)               #finding probability scores of x_tr using batch_predict function\n",
    "    y_cv_pred = batch_predict(neigh, x_cv)                  ##finding probability scores of x_cv using batch_predict function\n",
    "\n",
    "          \n",
    "    train_auc.append(roc_auc_score(y_train,y_train_pred))   #appending auc values\n",
    "    cv_auc.append(roc_auc_score(y_cv, y_cv_pred))\n",
    "\n",
    "\n",
    "    \n",
    "plt.plot(alpha, train_auc, label='Train AUC')        #plotting hyper_parameter v/s auc value plot....\n",
    "plt.plot(alpha, cv_auc, label='CV AUC')\n",
    "plt.xscale(\"log\")\n",
    "plt.scatter(alpha , train_auc, label='Train AUC points')\n",
    "plt.scatter(alpha , cv_auc, label='CV AUC points')\n",
    "\n",
    "plt.legend()\n",
    "plt.xlabel(\"log(alpha): hyperparameter\")\n",
    "plt.ylabel(\"AUC\")\n",
    "plt.title(\"hyperparameter v/s AUC plot to find BEST ALPHA\")\n",
    "plt.grid()\n",
    "plt.show()"
   ]
  },
  {
   "cell_type": "code",
   "execution_count": 56,
   "metadata": {
    "execution": {
     "iopub.execute_input": "2021-01-10T14:34:02.978825Z",
     "iopub.status.busy": "2021-01-10T14:34:02.977785Z",
     "iopub.status.idle": "2021-01-10T14:34:02.981159Z",
     "shell.execute_reply": "2021-01-10T14:34:02.980500Z"
    },
    "papermill": {
     "duration": 0.103241,
     "end_time": "2021-01-10T14:34:02.981271",
     "exception": false,
     "start_time": "2021-01-10T14:34:02.878030",
     "status": "completed"
    },
    "tags": []
   },
   "outputs": [],
   "source": [
    "#best alpha = 10^0 = 1\n",
    "best_alpha_bow=1"
   ]
  },
  {
   "cell_type": "code",
   "execution_count": 57,
   "metadata": {
    "execution": {
     "iopub.execute_input": "2021-01-10T14:34:03.182968Z",
     "iopub.status.busy": "2021-01-10T14:34:03.182257Z",
     "iopub.status.idle": "2021-01-10T14:34:03.398414Z",
     "shell.execute_reply": "2021-01-10T14:34:03.397363Z"
    },
    "papermill": {
     "duration": 0.322275,
     "end_time": "2021-01-10T14:34:03.398685",
     "exception": false,
     "start_time": "2021-01-10T14:34:03.076410",
     "status": "completed"
    },
    "tags": []
   },
   "outputs": [
    {
     "data": {
      "image/png": "[encoded data removed]",
      "text/plain": [
       "<Figure size 432x288 with 1 Axes>"
      ]
     },
     "metadata": {
      "needs_background": "light"
     },
     "output_type": "display_data"
    }
   ],
   "source": [
    "# https://scikit-learn.org/stable/modules/generated/sklearn.metrics.roc_curve.html#sklearn.metrics.roc_curve\n",
    "from sklearn.metrics import roc_curve, auc\n",
    "\n",
    "\n",
    "clas = MultinomialNB(alpha=best_alpha_bow,class_prior=[0.5,0.5],fit_prior=False)\n",
    "clas.fit(x_tr, y_train)\n",
    "\n",
    "\n",
    "y_train_pred = batch_predict(clas, x_tr)    \n",
    "y_test_pred = batch_predict(clas, x_te)\n",
    "\n",
    "# roc_auc_score(y_true, y_score) the 2nd parameter should be probability estimates of the positive class\n",
    "# not the predicted outputs\n",
    "train_fpr, train_tpr, tr_thresholds = roc_curve(y_train, y_train_pred)\n",
    "test_fpr, test_tpr, te_thresholds = roc_curve(y_test, y_test_pred)\n",
    "\n",
    "\n",
    "train_auc=auc(train_fpr, train_tpr)\n",
    "test_auc=auc(test_fpr, test_tpr)\n",
    "plt.plot(train_fpr, train_tpr, label=\"train AUC =\"+str(train_auc))\n",
    "plt.plot(test_fpr, test_tpr, label=\"test AUC =\"+str(test_auc))\n",
    "plt.legend()\n",
    "plt.xlabel(\"False positive rate\")\n",
    "plt.ylabel(\"True positive rate\")\n",
    "plt.title(\"FPR v/s TPR plot\")\n",
    "plt.grid()\n",
    "plt.show()"
   ]
  },
  {
   "cell_type": "code",
   "execution_count": 58,
   "metadata": {
    "execution": {
     "iopub.execute_input": "2021-01-10T14:34:03.601372Z",
     "iopub.status.busy": "2021-01-10T14:34:03.600704Z",
     "iopub.status.idle": "2021-01-10T14:34:03.604588Z",
     "shell.execute_reply": "2021-01-10T14:34:03.604065Z"
    },
    "papermill": {
     "duration": 0.109922,
     "end_time": "2021-01-10T14:34:03.604729",
     "exception": false,
     "start_time": "2021-01-10T14:34:03.494807",
     "status": "completed"
    },
    "tags": []
   },
   "outputs": [],
   "source": [
    "def find_best_threshold(threshold, fpr, tpr):\n",
    "    \"\"\"it will give best threshold value that will give the least fpr\"\"\"\n",
    "    t = threshold[np.argmax(tpr*(1-fpr))]\n",
    "    \n",
    "    # (tpr*(1-fpr)) will be maximum if your fpr is very low and tpr is very high\n",
    "    print(\"the maximum value of tpr*(1-fpr)\", max(tpr*(1-fpr)), \"for threshold\", np.round(t,3))\n",
    "    \n",
    "    return t\n",
    "\n",
    "def predict_with_best_t(proba, threshold):\n",
    "    \"\"\"this will give predictions based on best threshold value\"\"\"\n",
    "    predictions = []\n",
    "    for i in proba:\n",
    "        if i>=threshold:\n",
    "            predictions.append(1)\n",
    "        else:\n",
    "            predictions.append(0)\n",
    "    return predictions"
   ]
  },
  {
   "cell_type": "code",
   "execution_count": 59,
   "metadata": {
    "execution": {
     "iopub.execute_input": "2021-01-10T14:34:03.811049Z",
     "iopub.status.busy": "2021-01-10T14:34:03.810038Z",
     "iopub.status.idle": "2021-01-10T14:34:03.855542Z",
     "shell.execute_reply": "2021-01-10T14:34:03.854834Z"
    },
    "papermill": {
     "duration": 0.153815,
     "end_time": "2021-01-10T14:34:03.855680",
     "exception": false,
     "start_time": "2021-01-10T14:34:03.701865",
     "status": "completed"
    },
    "tags": []
   },
   "outputs": [
    {
     "name": "stdout",
     "output_type": "stream",
     "text": [
      "the maximum value of tpr*(1-fpr) 0.878776953199331 for threshold 0.817\n",
      "Train confusion matrix\n",
      "[[1526   78]\n",
      " [ 551 6670]]\n",
      "Test confusion matrix\n",
      "[[1026  154]\n",
      " [ 462 4847]]\n"
     ]
    }
   ],
   "source": [
    "#computing confusion matrix for set_1\n",
    "from sklearn.metrics import confusion_matrix\n",
    "best_t = find_best_threshold(tr_thresholds, train_fpr, train_tpr)\n",
    "print(\"Train confusion matrix\")\n",
    "m_tr=(confusion_matrix(y_train, predict_with_best_t(y_train_pred, best_t)))\n",
    "print(m_tr)\n",
    "print(\"Test confusion matrix\")\n",
    "m_te=(confusion_matrix(y_test, predict_with_best_t(y_test_pred, best_t)))\n",
    "print(m_te)\n",
    "#you are concerned that this cell produced fifferent result?\n",
    "#yes sir\n",
    "#no. if i run this code from the begining then it will be different result"
   ]
  },
  {
   "cell_type": "markdown",
   "metadata": {
    "papermill": {
     "duration": 0.099349,
     "end_time": "2021-01-10T14:34:04.053644",
     "exception": false,
     "start_time": "2021-01-10T14:34:03.954295",
     "status": "completed"
    },
    "tags": []
   },
   "source": [
    "From the confusion matrix , we can observe that, TPR, TNR are high. FPR,FNR are significantly lower.<br>***So We got a good result***"
   ]
  },
  {
   "cell_type": "code",
   "execution_count": 60,
   "metadata": {
    "execution": {
     "iopub.execute_input": "2021-01-10T14:34:04.264110Z",
     "iopub.status.busy": "2021-01-10T14:34:04.257829Z",
     "iopub.status.idle": "2021-01-10T14:34:04.428475Z",
     "shell.execute_reply": "2021-01-10T14:34:04.427786Z"
    },
    "papermill": {
     "duration": 0.278425,
     "end_time": "2021-01-10T14:34:04.428591",
     "exception": false,
     "start_time": "2021-01-10T14:34:04.150166",
     "status": "completed"
    },
    "tags": []
   },
   "outputs": [
    {
     "data": {
      "image/png": "[encoded data removed]",
      "text/plain": [
       "<Figure size 432x288 with 2 Axes>"
      ]
     },
     "metadata": {
      "needs_background": "light"
     },
     "output_type": "display_data"
    }
   ],
   "source": [
    "cm_tr = np.array(m_tr)\n",
    "cm_te=np.array(m_te)\n",
    "#plotting heatmap\n",
    "sns.heatmap(cm_tr, annot=True,fmt=\"d\",cmap='Blues')\n",
    "plt.xlabel(\"predict\")\n",
    "plt.ylabel(\"actual\")\n",
    "plt.show()"
   ]
  },
  {
   "cell_type": "code",
   "execution_count": 61,
   "metadata": {
    "execution": {
     "iopub.execute_input": "2021-01-10T14:34:04.641958Z",
     "iopub.status.busy": "2021-01-10T14:34:04.633297Z",
     "iopub.status.idle": "2021-01-10T14:34:04.798526Z",
     "shell.execute_reply": "2021-01-10T14:34:04.799070Z"
    },
    "papermill": {
     "duration": 0.271498,
     "end_time": "2021-01-10T14:34:04.799234",
     "exception": false,
     "start_time": "2021-01-10T14:34:04.527736",
     "status": "completed"
    },
    "tags": []
   },
   "outputs": [
    {
     "data": {
      "image/png": "[encoded data removed]",
      "text/plain": [
       "<Figure size 432x288 with 2 Axes>"
      ]
     },
     "metadata": {
      "needs_background": "light"
     },
     "output_type": "display_data"
    }
   ],
   "source": [
    "sns.heatmap(cm_te,annot=True,fmt=\"d\",cmap=\"BrBG\")\n",
    "plt.xlabel(\"predict\")\n",
    "plt.ylabel(\"actual\")\n",
    "plt.show()"
   ]
  },
  {
   "cell_type": "markdown",
   "metadata": {
    "papermill": {
     "duration": 0.099337,
     "end_time": "2021-01-10T14:34:04.999000",
     "exception": false,
     "start_time": "2021-01-10T14:34:04.899663",
     "status": "completed"
    },
    "tags": []
   },
   "source": [
    "We can see the result of confusion matrix through ***HEAT MAP*** also."
   ]
  },
  {
   "cell_type": "code",
   "execution_count": 62,
   "metadata": {
    "execution": {
     "iopub.execute_input": "2021-01-10T14:34:05.206652Z",
     "iopub.status.busy": "2021-01-10T14:34:05.205487Z",
     "iopub.status.idle": "2021-01-10T14:34:05.210380Z",
     "shell.execute_reply": "2021-01-10T14:34:05.209712Z"
    },
    "papermill": {
     "duration": 0.111678,
     "end_time": "2021-01-10T14:34:05.210493",
     "exception": false,
     "start_time": "2021-01-10T14:34:05.098815",
     "status": "completed"
    },
    "tags": []
   },
   "outputs": [
    {
     "name": "stdout",
     "output_type": "stream",
     "text": [
      "0.9129779619514032\n",
      "0.9692061587682463\n",
      "0.9402521823472357\n"
     ]
    }
   ],
   "source": [
    "#Lets calculate precision,recall, and f1 score\n",
    "\n",
    "precision= m_te[1][1]/(m_te[1][0]+m_te[1][1])\n",
    "print(precision)\n",
    "\n",
    "recall=m_te[1][1]/(m_te[0][1]+m_te[1][1])\n",
    "print(recall)\n",
    "\n",
    "f1=(2*precision*recall)/(precision+recall)\n",
    "print(f1)"
   ]
  },
  {
   "cell_type": "code",
   "execution_count": 63,
   "metadata": {
    "execution": {
     "iopub.execute_input": "2021-01-10T14:34:05.424628Z",
     "iopub.status.busy": "2021-01-10T14:34:05.423910Z",
     "iopub.status.idle": "2021-01-10T14:34:05.428410Z",
     "shell.execute_reply": "2021-01-10T14:34:05.428904Z"
    },
    "papermill": {
     "duration": 0.119883,
     "end_time": "2021-01-10T14:34:05.429056",
     "exception": false,
     "start_time": "2021-01-10T14:34:05.309173",
     "status": "completed"
    },
    "tags": []
   },
   "outputs": [
    {
     "data": {
      "text/html": [
       "<div>\n",
       "<style scoped>\n",
       "    .dataframe tbody tr th:only-of-type {\n",
       "        vertical-align: middle;\n",
       "    }\n",
       "\n",
       "    .dataframe tbody tr th {\n",
       "        vertical-align: top;\n",
       "    }\n",
       "\n",
       "    .dataframe thead th {\n",
       "        text-align: right;\n",
       "    }\n",
       "</style>\n",
       "<table border=\"1\" class=\"dataframe\">\n",
       "  <thead>\n",
       "    <tr style=\"text-align: right;\">\n",
       "      <th></th>\n",
       "      <th>Vectorizer</th>\n",
       "      <th>Hyper-parameter(alpha)</th>\n",
       "      <th>Train_AUC</th>\n",
       "      <th>Test_AUC</th>\n",
       "      <th>Precision</th>\n",
       "      <th>Recall</th>\n",
       "      <th>F_1_Score</th>\n",
       "    </tr>\n",
       "  </thead>\n",
       "  <tbody>\n",
       "    <tr>\n",
       "      <th>1</th>\n",
       "      <td>BOW</td>\n",
       "      <td>1</td>\n",
       "      <td>0.980281</td>\n",
       "      <td>0.953028</td>\n",
       "      <td>0.912978</td>\n",
       "      <td>0.969206</td>\n",
       "      <td>0.940252</td>\n",
       "    </tr>\n",
       "  </tbody>\n",
       "</table>\n",
       "</div>"
      ],
      "text/plain": [
       "  Vectorizer  Hyper-parameter(alpha)  Train_AUC  Test_AUC  Precision  \\\n",
       "1        BOW                       1   0.980281  0.953028   0.912978   \n",
       "\n",
       "     Recall  F_1_Score  \n",
       "1  0.969206   0.940252  "
      ]
     },
     "execution_count": 63,
     "metadata": {},
     "output_type": "execute_result"
    }
   ],
   "source": [
    "index=[1]\n",
    "summary_df=pd.DataFrame({\"Vectorizer\":(\"BOW\"),\"Hyper-parameter(alpha)\":(best_alpha_bow),\"Train_AUC\":(train_auc),\"Test_AUC\":(test_auc), \"Precision\":(precision),\"Recall\":(recall),\"F_1_Score\":(f1)},index=index)\n",
    "summary_df"
   ]
  },
  {
   "cell_type": "markdown",
   "metadata": {
    "papermill": {
     "duration": 0.100896,
     "end_time": "2021-01-10T14:34:05.629895",
     "exception": false,
     "start_time": "2021-01-10T14:34:05.528999",
     "status": "completed"
    },
    "tags": []
   },
   "source": [
    "1]. When we use BOW vectorizer , we got 0.95 as test AUC.<br>     This means there is 95% chance that our model will be able to classify positive and negative points i.e. ***recommended*** or ***not recommended***<br>2]. We got TPR and TNR high, and FPR,FNR lower, this shows our model predicts pretty well.<br>"
   ]
  },
  {
   "cell_type": "code",
   "execution_count": null,
   "metadata": {
    "papermill": {
     "duration": 0.101022,
     "end_time": "2021-01-10T14:34:05.831462",
     "exception": false,
     "start_time": "2021-01-10T14:34:05.730440",
     "status": "completed"
    },
    "tags": []
   },
   "outputs": [],
   "source": []
  }
 ],
 "metadata": {
  "kernelspec": {
   "display_name": "Python 3",
   "language": "python",
   "name": "python3"
  },
  "language_info": {
   "codemirror_mode": {
    "name": "ipython",
    "version": 3
   },
   "file_extension": ".py",
   "mimetype": "text/x-python",
   "name": "python",
   "nbconvert_exporter": "python",
   "pygments_lexer": "ipython3",
   "version": "3.7.6"
  },
  "papermill": {
   "duration": 45.646086,
   "end_time": "2021-01-10T14:34:06.044713",
   "environment_variables": {},
   "exception": null,
   "input_path": "__notebook__.ipynb",
   "output_path": "__notebook__.ipynb",
   "parameters": {},
   "start_time": "2021-01-10T14:33:20.398627",
   "version": "2.1.0"
  }
 },
 "nbformat": 4,
 "nbformat_minor": 4
}
